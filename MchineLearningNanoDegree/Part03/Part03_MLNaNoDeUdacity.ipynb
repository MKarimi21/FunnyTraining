{
 "cells": [
  {
   "cell_type": "markdown",
   "id": "comparative-exposure",
   "metadata": {},
   "source": [
    "### Starting"
   ]
  },
  {
   "cell_type": "markdown",
   "id": "southeast-reference",
   "metadata": {},
   "source": [
    "<h3 align=\"center\">!! Part 03-Module 01-Lesson 01_Linear Regression/15. Linear Regression in scikit-learn !!</h3>"
   ]
  },
  {
   "cell_type": "markdown",
   "id": "psychological-nowhere",
   "metadata": {},
   "source": [
    "* For your linear regression model, you'll be using scikit-learn's **LinearRegression** class. This class provides the function ``` fit()``` to fit the model to your data."
   ]
  },
  {
   "cell_type": "markdown",
   "id": "intellectual-italian",
   "metadata": {},
   "source": [
    "``` python\n",
    "from sklearn.linear_model import LinearRegression\n",
    "model = LinearRegression()\n",
    "model.fit(x_value, y_value)\n",
    "```"
   ]
  },
  {
   "cell_type": "markdown",
   "id": "upset-roman",
   "metadata": {},
   "source": [
    "* In the example above, the **model** variable is a linear regression model that has been fitted to the data **x_values** and **y_values**. Fitting the model means finding the best line that fits the training data. Let's make two predictions using the model's ```predict()``` function."
   ]
  },
  {
   "cell_type": "markdown",
   "id": "institutional-hotel",
   "metadata": {},
   "source": [
    "``` python\n",
    "print(model.predict([[127], [248]]))\n",
    "```"
   ]
  },
  {
   "cell_type": "markdown",
   "id": "radio-partition",
   "metadata": {},
   "source": [
    "The model returned an array of predictions, one prediction for each input array. The first input, ```[127]```, got a prediction of `438.94308857`. The second input, `[248]`, got a prediction of `127.14839521`. The reason for predicting on an array like `[127]` and not just `127`, is because you can have a model that makes a prediction using multiple features."
   ]
  },
  {
   "cell_type": "markdown",
   "id": "manual-beauty",
   "metadata": {},
   "source": [
    "<br>\n",
    "<h3 aligne='center'> Linear Regression Example </h3>\n",
    "<br>\n",
    "<br>\n",
    "\n",
    "\n",
    "* **Country** – The country the person was born in.\n",
    "* **Life expectancy** – The average life expectancy at birth for a person in that country.\n",
    "* **BMI** – The mean BMI of males in that country.\n",
    "\n",
    "\n",
    "#### You'll need to complete each of the following steps:\n",
    "\n",
    "**1. Load the data**\n",
    "\n",
    "* The data is in the file called `\"bmi_healthcare.csv\"`.\n",
    "* Use *pandas* `read_csv` to load the data into a dataframe (don't forget to import pandas!)\n",
    "* Assign the dataframe to the variable `bmi_healthcare`.\n",
    "\n",
    "**2. Build a linear regression model**\n",
    "\n",
    "* Create a regression model using scikit-learn's `LinearRegression` and assign it to `bmi_healthcare`.\n",
    "* Fit the model to the data.\n",
    "\n",
    "**3. Predict using the model**\n",
    "\n",
    "* Predict using a BMI of `21.07931` and assign it to the variable `laos_life_exp`.\n"
   ]
  },
  {
   "cell_type": "code",
   "execution_count": 16,
   "id": "continued-teacher",
   "metadata": {},
   "outputs": [],
   "source": [
    "# STEP 0\n",
    "\n",
    "import pandas as pd \n",
    "from sklearn.linear_model import LinearRegression\n"
   ]
  },
  {
   "cell_type": "code",
   "execution_count": 17,
   "id": "ready-kinase",
   "metadata": {},
   "outputs": [
    {
     "name": "stdout",
     "output_type": "stream",
     "text": [
      "                Country  Life expectancy       BMI\n",
      "0           Afghanistan             52.8  20.62058\n",
      "1               Albania             76.8  26.44657\n",
      "2               Algeria             75.5  24.59620\n",
      "3               Andorra             84.6  27.63048\n",
      "4                Angola             56.7  22.25083\n",
      "..                  ...              ...       ...\n",
      "158             Vanuatu             63.4  26.78926\n",
      "159  West Bank and Gaza             74.1  26.57750\n",
      "160             Vietnam             74.1  20.91630\n",
      "161              Zambia             51.1  20.68321\n",
      "162            Zimbabwe             47.3  22.02660\n",
      "\n",
      "[163 rows x 3 columns]\n"
     ]
    }
   ],
   "source": [
    "# STEP 1\n",
    "\n",
    "bmi_data = pd.read_csv(\"./data/bmi_heaithcare.csv\")\n",
    "\n",
    "print(bmi_data)"
   ]
  },
  {
   "cell_type": "code",
   "execution_count": 18,
   "id": "entertaining-composer",
   "metadata": {},
   "outputs": [
    {
     "data": {
      "text/plain": [
       "LinearRegression()"
      ]
     },
     "execution_count": 18,
     "metadata": {},
     "output_type": "execute_result"
    }
   ],
   "source": [
    "# STEP 2\n",
    "\n",
    "bmi_model = LinearRegression()\n",
    "bmi_model.fit(bmi_data[['BMI']], bmi_data[['Life expectancy']])"
   ]
  },
  {
   "cell_type": "code",
   "execution_count": 19,
   "id": "czech-nepal",
   "metadata": {},
   "outputs": [
    {
     "name": "stdout",
     "output_type": "stream",
     "text": [
      "Predict: 60.316\n"
     ]
    }
   ],
   "source": [
    "# STEP 3\n",
    "# INPUT = BMI  |  OUTPUT = LIEF EXPECTANCY\n",
    "\n",
    "laos_life_exp = bmi_model.predict([[21.07931]])\n",
    "print(\"Predict: {:.3f}\".format(laos_life_exp[0][0]))"
   ]
  },
  {
   "cell_type": "code",
   "execution_count": 20,
   "id": "incomplete-secretary",
   "metadata": {},
   "outputs": [
    {
     "name": "stdout",
     "output_type": "stream",
     "text": [
      "Testing for Iran: 70.971\n"
     ]
    }
   ],
   "source": [
    "# Testing Model\n",
    "# IRAN: Lief expectancy = 73.1 | BMI = 25.31003\n",
    "\n",
    "iran_life_exp = bmi_model.predict([[25.31003]])\n",
    "print(\"Testing for Iran: {:.3f}\".format(iran_life_exp[0][0]))"
   ]
  },
  {
   "cell_type": "markdown",
   "id": "asian-characteristic",
   "metadata": {},
   "source": [
    "<h3 align=\"center\">!! Part 03-Module 01-Lesson 01_Linear Regression/17. Multiple Linear Regression !!</h3>"
   ]
  },
  {
   "cell_type": "code",
   "execution_count": 21,
   "id": "quantitative-commerce",
   "metadata": {},
   "outputs": [
    {
     "name": "stdout",
     "output_type": "stream",
     "text": [
      "Prediction: 23.684\n"
     ]
    }
   ],
   "source": [
    "from sklearn.linear_model import LinearRegression\n",
    "from sklearn.datasets import load_boston\n",
    "\n",
    "\n",
    "boston_data = load_boston()\n",
    "\n",
    "x = boston_data['data']\n",
    "y = boston_data['target']\n",
    "\n",
    "\n",
    "model = LinearRegression()\n",
    "model.fit(x, y)\n",
    "\n",
    "sample_house = [[0.2296, 0.000, 10.59, 0.000, 0.4890, 6.326, 52.50, 4.354, 4.000, 277.0, 18.60, 394.8, 10.97]]\n",
    "\n",
    "prediction = model.predict(sample_house)\n",
    "\n",
    "print(\"Prediction: {:.3f}\".format(prediction[0]))"
   ]
  },
  {
   "cell_type": "code",
   "execution_count": 22,
   "id": "chronic-disorder",
   "metadata": {},
   "outputs": [
    {
     "data": {
      "image/png": "[encoded data removed]",
      "text/plain": [
       "<Figure size 432x288 with 1 Axes>"
      ]
     },
     "metadata": {
      "needs_background": "light"
     },
     "output_type": "display_data"
    },
    {
     "data": {
      "image/png": "[encoded data removed]",
      "text/plain": [
       "<Figure size 432x288 with 1 Axes>"
      ]
     },
     "metadata": {
      "needs_background": "light"
     },
     "output_type": "display_data"
    }
   ],
   "source": [
    "import matplotlib.pyplot as plt \n",
    "\n",
    "plt.plot(y, 'r.');\n",
    "plt.show();\n",
    "plt.plot(x);"
   ]
  },
  {
   "cell_type": "markdown",
   "id": "statutory-bridges",
   "metadata": {},
   "source": [
    "<br>\n",
    "<h3 align=\"center\">!! Part 03-Module 01-Lesson 01_Linear Regression/12. Regularization !!</h3>\n",
    "<br>\n",
    "<img src='./data/Regulariz00.jpg' align='center' width=650 height=300>\n",
    "<br>\n",
    "<img src='./data/Regulariz01.jpg' align='center' width=650 height=300>\n",
    "<br>\n",
    "<img src='./data/Regulariz02.jpg' align='center' width=650 height=300>"
   ]
  },
  {
   "cell_type": "markdown",
   "id": "configured-jenny",
   "metadata": {},
   "source": [
    "<h3 align=\"center\">!! Part 03-Module 01-Lesson 02_Perceptron Algorithm/01. Intro !!</h3>"
   ]
  },
  {
   "cell_type": "markdown",
   "id": "historic-effort",
   "metadata": {},
   "source": [
    "* Classification base on **Yes** or **No** and use mostly for Neural Networks for layars."
   ]
  },
  {
   "cell_type": "markdown",
   "id": "overall-powell",
   "metadata": {},
   "source": [
    "<img src='./data/classification00.jpg' aligne='center' width=650 height=300>"
   ]
  },
  {
   "cell_type": "markdown",
   "id": "cross-underwear",
   "metadata": {},
   "source": [
    "* Given the table in the video above, what would the dimensions be for `input features (`**x**`)`, the `weights (`**W**`)`, and the `bias (`**b**`)` to satisfy `(`**Wx + b**`)`?\n",
    "\n",
    "> **`W: (1xn), x: (nx1), b: (1x1) `**"
   ]
  },
  {
   "cell_type": "markdown",
   "id": "ready-stereo",
   "metadata": {},
   "source": [
    "<h3 align=\"center\">!! Part 03-Module 01-Lesson 02_Perceptron Algorithm/06. Perceptrons !!</h3>\n",
    "<br>\n",
    "<img src='./data/perceptron.jpg' align='center' width=650 heigth=300>\n",
    "<br>\n",
    "\n",
    "* `Likely Neural Network`"
   ]
  },
  {
   "cell_type": "markdown",
   "id": "occupational-village",
   "metadata": {},
   "source": [
    "> In Perceptron Algorithm we trying to find new line for come closer for point of out of area in plot.\n",
    "\n",
    "> If out point is above line and color of point is *Red* and up area is **Blue** and down is **Red**, so we need come closer to red point, model is $2x_{1} + x_{2} + 10 = 0$ and red point location is `(6, 9)` and **Learning Rate** is `0.1` and bias equal `1`, so we have new line and equal to $2$ from first parameter or $2x_{1}$, $2 - 6 * 0.1 = 2 - 0.6 = 1.4$, $1 - 0.9 = 0.1$ and $10 - 0.1 = 9.9$ so that $1.4x_{1} + 0.1x_{2} + 9.9 = 0$ **OR** reverse for *Blue* point, first time we multiple rate with blue point location and then pluse it to come closer line for blue point."
   ]
  },
  {
   "cell_type": "markdown",
   "id": "surgical-iceland",
   "metadata": {},
   "source": [
    "<h3 align=\"center\">!! Part 03-Module 01-Lesson 02_Perceptron Algorithm/09. Perceptron Algorithm !!</h3>\n"
   ]
  },
  {
   "cell_type": "code",
   "execution_count": 10,
   "id": "minimal-departure",
   "metadata": {},
   "outputs": [
    {
     "name": "stdout",
     "output_type": "stream",
     "text": [
      "         x1        x2  y\n",
      "0   0.78051 -0.063669  1\n",
      "1   0.28774  0.291390  1\n",
      "2   0.40714  0.178780  1\n",
      "3   0.29230  0.421700  1\n",
      "4   0.50922  0.352560  1\n",
      "..      ...       ... ..\n",
      "95  0.77029  0.701400  0\n",
      "96  0.73156  0.717820  0\n",
      "97  0.44556  0.579910  0\n",
      "98  0.85275  0.859870  0\n",
      "99  0.51912  0.623590  0\n",
      "\n",
      "[100 rows x 3 columns]\n"
     ]
    }
   ],
   "source": [
    "import pandas as pd \n",
    "from numpy import array\n",
    "\n",
    "perceptron_data = pd.read_csv('./data/perceptron_data.csv') \n",
    "\n",
    "X_per = array(perceptron_data[['x1', 'x2']])\n",
    "Y_per = array(perceptron_data[['y']])\n",
    "\n",
    "print(perceptron_data)\n"
   ]
  },
  {
   "cell_type": "code",
   "execution_count": 14,
   "id": "spanish-walter",
   "metadata": {},
   "outputs": [
    {
     "data": {
      "image/png": "[encoded data removed]",
      "text/plain": [
       "<Figure size 432x288 with 1 Axes>"
      ]
     },
     "metadata": {
      "needs_background": "light"
     },
     "output_type": "display_data"
    }
   ],
   "source": [
    "import matplotlib.pyplot as plt\n",
    "\n",
    "plt.plot(X_per, 'b.');\n"
   ]
  },
  {
   "cell_type": "markdown",
   "id": "familiar-assignment",
   "metadata": {},
   "source": [
    "> * **And now we need perceptron with this code:**\n",
    "\n",
    "\n",
    "\n",
    "\n",
    "``` python\n",
    "def perceptronStep(X, y, W, b, learn_rate = 0.01):\n",
    "    for i in range(len(X)):\n",
    "        y_hat = prediction(X[i],W,b)\n",
    "        if y[i]-y_hat == 1:\n",
    "            W[0] += X[i][0]*learn_rate\n",
    "            W[1] += X[i][1]*learn_rate\n",
    "            b += learn_rate\n",
    "        elif y[i]-y_hat == -1:\n",
    "            W[0] -= X[i][0]*learn_rate\n",
    "            W[1] -= X[i][1]*learn_rate\n",
    "            b -= learn_rate\n",
    "    return W, b\n",
    "```\n",
    "\n",
    "\n",
    "\n",
    "> * **Or this complete code:**\n",
    "\n",
    "\n",
    "\n",
    "\n",
    "```python\n",
    "import numpy as np\n",
    "# Setting the random seed, feel free to change it and see different solutions.\n",
    "np.random.seed(42)\n",
    "\n",
    "def stepFunction(t):\n",
    "    if t >= 0:\n",
    "        return 1\n",
    "    return 0\n",
    "\n",
    "def prediction(X, W, b):\n",
    "    return stepFunction((np.matmul(X,W)+b)[0])\n",
    "\n",
    "# TODO: Fill in the code below to implement the perceptron trick.\n",
    "# The function should receive as inputs the data X, the labels y,\n",
    "# the weights W (as an array), and the bias b,\n",
    "# update the weights and bias W, b, according to the perceptron algorithm,\n",
    "# and return W and b.\n",
    "def perceptronStep(X, y, W, b, learn_rate = 0.01):\n",
    "    for i in range(len(X)):\n",
    "        y_hat = prediction(X[i], W, b)\n",
    "        if y[i]-y_hat == 1:\n",
    "            W[0] += X[i][0]*learn_rate\n",
    "            W[1] += X[i][1]*learn_rate\n",
    "            b += learn_rate\n",
    "        elif y[i]-y_hat == -1:\n",
    "            W[0] -= X[i][0]*learn_rate\n",
    "            W[1] -= X[i][1]*learn_rate\n",
    "            b -= learn_rate\n",
    "        \n",
    "    # Fill in code\n",
    "    return W, b\n",
    "    \n",
    "# This function runs the perceptron algorithm repeatedly on the dataset,\n",
    "# and returns a few of the boundary lines obtained in the iterations,\n",
    "# for plotting purposes.\n",
    "# Feel free to play with the learning rate and the num_epochs,\n",
    "# and see your results plotted below.\n",
    "def trainPerceptronAlgorithm(X, y, learn_rate = 0.01, num_epochs = 25):\n",
    "    x_min, x_max = min(X.T[0]), max(X.T[0])\n",
    "    y_min, y_max = min(X.T[1]), max(X.T[1])\n",
    "    W = np.array(np.random.rand(2,1))\n",
    "    b = np.random.rand(1)[0] + x_max\n",
    "    # These are the solution lines that get plotted below.\n",
    "    boundary_lines = []\n",
    "    for i in range(num_epochs):\n",
    "        # In each epoch, we apply the perceptron step.\n",
    "        W, b = perceptronStep(X, y, W, b, learn_rate)\n",
    "        boundary_lines.append((-W[0]/W[1], -b/W[1]))\n",
    "    return boundary_lines\n",
    "```"
   ]
  },
  {
   "cell_type": "markdown",
   "id": "compressed-picking",
   "metadata": {},
   "source": [
    "<h3 align=\"center\">!! Part 03-Module 01-Lesson 03_Decision Trees/01. Intro !!</h3>\n"
   ]
  },
  {
   "cell_type": "markdown",
   "id": "extreme-latex",
   "metadata": {},
   "source": [
    "<img src='./data/decisionTree00.jpg' align='center' width=650 heigth=300>\n",
    "\n",
    "> * **Recommending App Example by Decision Trees**"
   ]
  },
  {
   "cell_type": "markdown",
   "id": "whole-ebony",
   "metadata": {},
   "source": [
    "<img src='./data/decisionTree01.jpg' align='center' width=650 heigth=300>\n",
    "\n",
    "> * **Student Admissions Example by Decision Trees**"
   ]
  },
  {
   "cell_type": "markdown",
   "id": "charitable-separate",
   "metadata": {},
   "source": [
    "<h3 align=\"center\">!! Part 03-Module 01-Lesson 03_Decision Trees/11. Multiclass Entropy !!</h3>\n",
    "<br>\n",
    "<img src='./data/Entropy00.jpg' align='center' width=650 heigth=300>\n",
    "<br>\n",
    "\n",
    "> * **Entropy is probably of somethings, like we have 4 balls and 3 balls is _Red_ and 1 ball is _Blue_ and probablity Red is $0.75$ for every red ball and Blue is $0.25$ and if we have prob measure $\\left(0.75*0.75*0.75\\right)*\\left(0.25\\right)$ so it is $0.1054$ that we use log till multiple**"
   ]
  },
  {
   "cell_type": "markdown",
   "id": "square-forward",
   "metadata": {},
   "source": [
    "<img src='./data/Entropy01.jpg' align='center' width=650 heigth=300>\n",
    "<br>\n",
    "<img src='./data/Entropy02.jpg' align='center' width=650 heigth=300>\n",
    "<br>\n",
    "<img src='./data/Entropy03.jpg' align='center' width=650 heigth=300>\n",
    "<br>\n",
    "<img src='./data/Entropy04.jpg' align='center' width=650 heigth=300>"
   ]
  },
  {
   "cell_type": "markdown",
   "id": "cosmetic-advance",
   "metadata": {},
   "source": [
    "**You'll need to complete each of the following steps:**\n",
    "\n",
    "* 1. Build a decision tree model\n",
    "\n",
    "    * Create a decision tree classification model using scikit-learn's **`DecisionTree`** and assign it to the variable **`model`**.\n",
    "\n",
    "* 2. Fit the model to the data\n",
    "\n",
    "    * You won't need to specify any of the hyperparameters, since the default ones will fit the data with an accuracy of 100% in the dataset. However, we encourage you to play with hyperparameters such as **`max_depth`** and **`min_samples_leaf`**, and try to find the simplest possible model, i.e., the least likely one to overfit!\n",
    "\n",
    "* 3. Predict using the model\n",
    "\n",
    "    * Predict the labels for the training set, and assign this list to the variable **`y_pred`**.\n",
    "\n",
    "* 4. Calculate the accuracy of the model\n",
    "\n",
    "    * For this, use the function sklearn function **`accuracy_score`**.\n",
    "\n",
    "\n",
    "\n",
    "\n",
    "**Hyperparameters**\n",
    "\n",
    "When we define the model, we can specify the hyperparameters. In practice, the most common ones are\n",
    "\n",
    "   * **`max_depth`**: The maximum number of levels in the tree.\n",
    "   * **`min_samples_leaf`**: The minimum number of samples allowed in a leaf.\n",
    "   * **`min_samples_split`**: The minimum number of samples required to split an internal node.\n",
    "   * **`max_features`**: The number of features to consider when looking for the best split.\n",
    "\n",
    "For example, here we define a model where the maximum depth of the trees **`max_depth`** is $7$, and the minimum number of elements in each leaf **`min_samples_leaf`** is $10$.\n",
    "\n",
    "``` python\n",
    ">>> model = DecisionTreeClassifier(max_depth = 7, min_samples_leaf = 10)\n",
    "```"
   ]
  },
  {
   "cell_type": "code",
   "execution_count": 4,
   "id": "measured-creator",
   "metadata": {},
   "outputs": [
    {
     "data": {
      "image/png": "[encoded data removed]",
      "text/plain": [
       "<Figure size 432x288 with 1 Axes>"
      ]
     },
     "metadata": {
      "needs_background": "light"
     },
     "output_type": "display_data"
    }
   ],
   "source": [
    "import pandas as pd \n",
    "import numpy as np \n",
    "\n",
    "hyper_data = np.asarray(pd.read_csv('./data/hyperparameters.csv', header=None))\n",
    "\n",
    "X = hyper_data[:, 0:2]\n",
    "Y = hyper_data[:, 2]\n",
    "\n",
    "\n",
    "from matplotlib.pyplot import plot\n",
    "\n",
    "plot(X, 'g.');"
   ]
  },
  {
   "cell_type": "code",
   "execution_count": 8,
   "id": "fatal-access",
   "metadata": {},
   "outputs": [
    {
     "name": "stdout",
     "output_type": "stream",
     "text": [
      "[1.]\n"
     ]
    }
   ],
   "source": [
    "from sklearn.tree import DecisionTreeClassifier\n",
    "from sklearn.metrics import accuracy_score \n",
    "\n",
    "hyper_model = DecisionTreeClassifier()\n",
    "\n",
    "hyper_model.fit(X, Y)\n",
    "\n",
    "y_pred = hyper_model.predict(X)\n",
    "\n",
    "acc = accuracy_score(Y, y_pred)\n",
    "\n",
    "\n",
    "print(hyper_model.predict([[0.59793, 0.095029]]))"
   ]
  },
  {
   "cell_type": "markdown",
   "id": "scenic-field",
   "metadata": {},
   "source": [
    "<h3 align=\"center\">!! Part 03-Module 01-Lesson 04_Naive Bayes/05. Bayes Theorem !!</h3>"
   ]
  },
  {
   "cell_type": "markdown",
   "id": "mineral-mercury",
   "metadata": {},
   "source": [
    "<img src='./data/BayesTheorem00.jpg' align=\"center\" width=650 heigth=300>"
   ]
  },
  {
   "cell_type": "markdown",
   "id": "signed-carpet",
   "metadata": {},
   "source": [
    "**Overview**\n",
    "\n",
    "This project has been broken down in to the following steps:\n",
    "\n",
    "   * Step 0: Introduction to the Naive Bayes Theorem\n",
    "   * Step 1.1: Understanding our dataset\n",
    "   * Step 1.2: Data Preprocessing\n",
    "   * Step 2.1: Bag of Words(BoW)\n",
    "   * Step 2.2: Implementing BoW from scratch\n",
    "   * Step 2.3: Implementing Bag of Words in scikit-learn\n",
    "   * Step 3.1: Training and testing sets\n",
    "   * Step 3.2: Applying Bag of Words processing to our dataset.\n",
    "   * Step 4.1: Bayes Theorem implementation from scratch\n",
    "   * Step 4.2: Naive Bayes implementation from scratch\n",
    "   * Step 5: Naive Bayes implementation using scikit-learn\n",
    "   * Step 6: Evaluating our model\n",
    "   * Step 7: Conclusion\n",
    "   \n",
    "   \n",
    "> * **Mostly used in `NLP`. This project on [GitHub-repo](https://github.com/udacity/NLP-Exercises/tree/master/1.5-spam-classifier)**\n",
    "\n",
    "> * **MainPage: [IPYNB](https://github.com/udacity/NLP-Exercises/blob/master/1.5-spam-classifier/Bayesian_Inference.ipynb) | SolutionPage: [IPYNB](https://github.com/udacity/NLP-Exercises/blob/master/1.5-spam-classifier/Bayesian_Inference_solution.ipynb)**"
   ]
  },
  {
   "cell_type": "markdown",
   "id": "american-kidney",
   "metadata": {},
   "source": [
    "<h3 align=\"center\">!!  Part 03-Module 01-Lesson 05_Support Vector Machines/04. Error Function Intuition  !!</h3>"
   ]
  },
  {
   "cell_type": "markdown",
   "id": "portable-darwin",
   "metadata": {},
   "source": [
    "<img src=\"./data/minimizingSVM.jpg\" align=\"center\" width=650 heigth=300>"
   ]
  },
  {
   "cell_type": "markdown",
   "id": "eleven-commerce",
   "metadata": {},
   "source": [
    "<h3 align=\"center\">!! Part 03-Module 01-Lesson 05_Support Vector Machines/17. SVMs in sklearn !!</h3>"
   ]
  },
  {
   "cell_type": "markdown",
   "id": "numerous-upgrade",
   "metadata": {},
   "source": [
    "**Hyperparameters**\n",
    "\n",
    "When we define the model, we can specify the hyperparameters. As we've seen in this section, the most common ones are\n",
    "\n",
    "   * **`C`**: The C parameter.\n",
    "   * **`kernel`**: The kernel. The most common ones are 'linear', 'poly', and 'rbf'.\n",
    "   * **`degree`**: If the kernel is polynomial, this is the maximum degree of the monomials in the kernel.\n",
    "   * **`gamma`**: If the kernel is rbf, this is the gamma parameter.\n",
    "\n",
    "``` python\n",
    ">>> model = SVC(kernel='poly', degree=4, C=0.1)\n",
    "\n",
    "```\n",
    "\n",
    "You'll need to complete each of the following steps:\n",
    "\n",
    "**1. Build a support vector machine model**\n",
    "\n",
    "   * Create a support vector machine classification model using scikit-learn's **`SVC`** and assign it to the variable **`model`**.\n",
    "\n",
    "**2. Fit the model to the data**\n",
    "\n",
    "   * If necessary, specify some of the hyperparameters. The goal is to obtain an accuracy of 100% in the dataset. Hint: Not every kernel will work well.\n",
    "\n",
    "**3. Predict using the model**\n",
    "\n",
    "   * Predict the labels for the training set, and assign this list to the variable **`y_pred`**.\n",
    "\n",
    "**4. Calculate the accuracy of the model**\n",
    "\n",
    "   * For this, use the function sklearn function **`accuracy_score`**.\n",
    "\n",
    "\n",
    "``` python\n",
    "from sklearn.svm import SVC\n",
    "model = SVC()\n",
    "model.fit(x_values, y_values)\n",
    "print(model.predict([ [0.2, 0.8], [0.5, 0.4] ]))\n",
    "\n",
    "# OutPut\n",
    "[[ 0., 1.]]\n",
    "\n",
    "\n",
    "\n",
    "```"
   ]
  },
  {
   "cell_type": "code",
   "execution_count": 4,
   "id": "sufficient-chick",
   "metadata": {},
   "outputs": [
    {
     "data": {
      "image/png": "[encoded data removed]",
      "text/plain": [
       "<Figure size 432x288 with 1 Axes>"
      ]
     },
     "metadata": {
      "needs_background": "light"
     },
     "output_type": "display_data"
    }
   ],
   "source": [
    "from matplotlib.pyplot import plot \n",
    "import numpy as np\n",
    "import pandas as pd \n",
    "\n",
    "svm_data = np.asarray(pd.read_csv('data/svm_data.csv', header=None))\n",
    "\n",
    "X = svm_data[:, 0:2]\n",
    "y = svm_data[:, 2]\n",
    "\n",
    "plot(X, 'y.');"
   ]
  },
  {
   "cell_type": "code",
   "execution_count": 6,
   "id": "hindu-national",
   "metadata": {},
   "outputs": [
    {
     "name": "stdout",
     "output_type": "stream",
     "text": [
      "[1.]\n"
     ]
    }
   ],
   "source": [
    "from sklearn.svm import SVC\n",
    "from sklearn.metrics import accuracy_score\n",
    "\n",
    "\n",
    "model_svm = SVC(kernel='rbf', gamma=27)\n",
    "\n",
    "model_svm.fit(X, y)\n",
    "\n",
    "y_pred_svm = model_svm.predict(X)\n",
    "\n",
    "acc_svm = accuracy_score(y, y_pred_svm)\n",
    "\n",
    "print(model_svm.predict([[0.26, 0.99]]))"
   ]
  },
  {
   "cell_type": "markdown",
   "id": "acceptable-romantic",
   "metadata": {},
   "source": [
    "<h3 align=\"center\">!!  Part 03-Module 01-Lesson 06_Ensemble Methods/01. Intro  !!</h3>"
   ]
  },
  {
   "cell_type": "markdown",
   "id": "acute-performer",
   "metadata": {},
   "source": [
    "<img src='./data/ADABoost00.jpg' align='center' width=650 heigth=300>\n",
    "<br>\n",
    "<img src='./data/ADABoost01.jpg' align='center' width=650 heigth=300>\n",
    "\n",
    "\n",
    ">  **In this model, top of `fraction` is correct point and down of fraction is incorrect point.**"
   ]
  },
  {
   "cell_type": "markdown",
   "id": "lined-portrait",
   "metadata": {},
   "source": [
    "<br>\n",
    "<img src='./data/ADABoost02.jpg' align='center' width=650 heigth=300>\n",
    "<br>\n",
    "<img src='./data/ADABoost03.jpg' align='center' width=650 heigth=300>\n",
    "<br>\n",
    "<img src='./data/ADABoost04.jpg' align='center' width=650 heigth=300>\n",
    "<br>\n",
    "<img src='./data/ADABoost05.jpg' align='center' width=650 heigth=300>\n",
    "<br>\n",
    "<img src='./data/ADABoost06.jpg' align='center' width=650 heigth=300>\n",
    "<br>\n",
    "<img src='./data/ADABoost07.jpg' align='center' width=650 heigth=300>"
   ]
  },
  {
   "cell_type": "markdown",
   "id": "romance-reporter",
   "metadata": {},
   "source": [
    "<br>\n",
    "<br>\n",
    "<h3 align='center'>!!  Part 03-Module 01-Lesson 06_Ensemble Methods/09. AdaBoost in sklearn  !!</h3>\n",
    "<br>\n",
    "<br>\n",
    "\n",
    "Building an AdaBoost model in sklearn is no different than building any other model. You can use scikit-learn's **`AdaBoost Classifier`** class. This class provides the functions to define and fit the model to your data.\n",
    "\n",
    "``` python\n",
    "    >>> from sklearn.ensemble import AdaBoostClassifier\n",
    "    >>> model = AdaBoostClassifier()\n",
    "    >>> model.fit(x_train, y_train)\n",
    "    >>> model.predict(x_test)\n",
    "```\n",
    "\n",
    "The **`model`** variable is a decision tree model that has been fitted to the data **`x_values`** and **`y_values`**. The functions **`fit`** and **`predict`** work exactly as before.\n",
    "\n",
    "\n",
    "**Hyperparameters**\n",
    "\n",
    "When we define the model, we can specify the hyperparameters. In practice, the most common ones are\n",
    "\n",
    "   * **`base_estimator`**: The model utilized for the weak learners (**Warning**: Don't forget to import the model that you decide to use for the weak learner).\n",
    "   * **`n_estimators`**: The maximum number of weak learners used.\n",
    "\n",
    "For example, here we define a model which uses decision trees of max_depth 2 as the weak learners, and it allows a maximum of 4 of them.\n",
    "\n",
    "```python\n",
    "\n",
    "        from sklearn.tree import DecisionTreeClassifier\n",
    "        model = AdaBoostClassifier(base_estimator = DecisionTreeClassifier(max_depth=2), n_estimators = 4)\n",
    "```\n",
    "\n"
   ]
  },
  {
   "cell_type": "code",
   "execution_count": null,
   "id": "understood-agriculture",
   "metadata": {},
   "outputs": [],
   "source": []
  }
 ],
 "metadata": {
  "kernelspec": {
   "display_name": "Python 3",
   "language": "python",
   "name": "python3"
  },
  "language_info": {
   "codemirror_mode": {
    "name": "ipython",
    "version": 3
   },
   "file_extension": ".py",
   "mimetype": "text/x-python",
   "name": "python",
   "nbconvert_exporter": "python",
   "pygments_lexer": "ipython3",
   "version": "3.8.3"
  },
  "latex_envs": {
   "LaTeX_envs_menu_present": true,
   "autoclose": true,
   "autocomplete": true,
   "bibliofile": "biblio.bib",
   "cite_by": "apalike",
   "current_citInitial": 1,
   "eqLabelWithNumbers": true,
   "eqNumInitial": 1,
   "hotkeys": {
    "equation": "Ctrl-E",
    "itemize": "Ctrl-I"
   },
   "labels_anchors": false,
   "latex_user_defs": false,
   "report_style_numbering": true,
   "user_envs_cfg": false
  }
 },
 "nbformat": 4,
 "nbformat_minor": 5
}
