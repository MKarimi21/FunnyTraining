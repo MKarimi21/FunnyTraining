{
 "cells": [
  {
   "cell_type": "markdown",
   "id": "comparative-exposure",
   "metadata": {},
   "source": [
    "### Starting"
   ]
  },
  {
   "cell_type": "markdown",
   "id": "southeast-reference",
   "metadata": {},
   "source": [
    "<h3 align=\"center\">!! Part 03-Module 01-Lesson 01_Linear Regression/15. Linear Regression in scikit-learn !!</h3>"
   ]
  },
  {
   "cell_type": "markdown",
   "id": "altered-tournament",
   "metadata": {},
   "source": [
    "* For your linear regression model, you'll be using scikit-learn's **LinearRegression** class. This class provides the function ``` fit()``` to fit the model to your data."
   ]
  },
  {
   "cell_type": "markdown",
   "id": "regulated-transportation",
   "metadata": {},
   "source": [
    "``` python\n",
    "from sklearn.linear_model import LinearRegression\n",
    "model = LinearRegression()\n",
    "model.fit(x_value, y_value)\n",
    "```"
   ]
  },
  {
   "cell_type": "markdown",
   "id": "essential-study",
   "metadata": {},
   "source": [
    "* In the example above, the **model** variable is a linear regression model that has been fitted to the data **x_values** and **y_values**. Fitting the model means finding the best line that fits the training data. Let's make two predictions using the model's ```predict()``` function."
   ]
  },
  {
   "cell_type": "markdown",
   "id": "forward-rolling",
   "metadata": {},
   "source": [
    "``` python\n",
    "print(model.predict([[127], [248]]))\n",
    "```"
   ]
  },
  {
   "cell_type": "markdown",
   "id": "suburban-astrology",
   "metadata": {},
   "source": [
    "The model returned an array of predictions, one prediction for each input array. The first input, ```[127]```, got a prediction of `438.94308857`. The second input, `[248]`, got a prediction of `127.14839521`. The reason for predicting on an array like `[127]` and not just `127`, is because you can have a model that makes a prediction using multiple features."
   ]
  },
  {
   "cell_type": "markdown",
   "id": "endless-consultancy",
   "metadata": {},
   "source": [
    "<br>\n",
    "<h3 aligne='center'> Linear Regression Example </h3>\n",
    "<br>\n",
    "<br>\n",
    "\n",
    "\n",
    "* **Country** – The country the person was born in.\n",
    "* **Life expectancy** – The average life expectancy at birth for a person in that country.\n",
    "* **BMI** – The mean BMI of males in that country.\n",
    "\n",
    "\n",
    "#### You'll need to complete each of the following steps:\n",
    "\n",
    "**1. Load the data**\n",
    "\n",
    "* The data is in the file called `\"bmi_healthcare.csv\"`.\n",
    "* Use *pandas* `read_csv` to load the data into a dataframe (don't forget to import pandas!)\n",
    "* Assign the dataframe to the variable bmi_healthcare.\n",
    "\n",
    "**2. Build a linear regression model**\n",
    "\n",
    "* Create a regression model using scikit-learn's `LinearRegression` and assign it to `bmi_healthcare`.\n",
    "* Fit the model to the data.\n",
    "\n",
    "**3. Predict using the model**\n",
    "\n",
    "* Predict using a BMI of `21.07931` and assign it to the variable `laos_life_exp`.\n"
   ]
  },
  {
   "cell_type": "code",
   "execution_count": null,
   "id": "double-vacation",
   "metadata": {},
   "outputs": [],
   "source": []
  }
 ],
 "metadata": {
  "kernelspec": {
   "display_name": "Python 3",
   "language": "python",
   "name": "python3"
  },
  "language_info": {
   "codemirror_mode": {
    "name": "ipython",
    "version": 3
   },
   "file_extension": ".py",
   "mimetype": "text/x-python",
   "name": "python",
   "nbconvert_exporter": "python",
   "pygments_lexer": "ipython3",
   "version": "3.8.3"
  },
  "latex_envs": {
   "LaTeX_envs_menu_present": true,
   "autoclose": true,
   "autocomplete": true,
   "bibliofile": "biblio.bib",
   "cite_by": "apalike",
   "current_citInitial": 1,
   "eqLabelWithNumbers": true,
   "eqNumInitial": 1,
   "hotkeys": {
    "equation": "Ctrl-E",
    "itemize": "Ctrl-I"
   },
   "labels_anchors": false,
   "latex_user_defs": false,
   "report_style_numbering": true,
   "user_envs_cfg": false
  }
 },
 "nbformat": 4,
 "nbformat_minor": 5
}
