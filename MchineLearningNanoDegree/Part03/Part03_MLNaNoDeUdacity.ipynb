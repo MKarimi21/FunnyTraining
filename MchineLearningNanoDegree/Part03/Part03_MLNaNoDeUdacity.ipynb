{
 "cells": [
  {
   "cell_type": "markdown",
   "id": "comparative-exposure",
   "metadata": {},
   "source": [
    "### Starting"
   ]
  },
  {
   "cell_type": "markdown",
   "id": "southeast-reference",
   "metadata": {},
   "source": [
    "<h3 align=\"center\">!! Part 03-Module 01-Lesson 01_Linear Regression/15. Linear Regression in scikit-learn !!</h3>"
   ]
  },
  {
   "cell_type": "markdown",
   "id": "psychological-nowhere",
   "metadata": {},
   "source": [
    "* For your linear regression model, you'll be using scikit-learn's **LinearRegression** class. This class provides the function ``` fit()``` to fit the model to your data."
   ]
  },
  {
   "cell_type": "markdown",
   "id": "intellectual-italian",
   "metadata": {},
   "source": [
    "``` python\n",
    "from sklearn.linear_model import LinearRegression\n",
    "model = LinearRegression()\n",
    "model.fit(x_value, y_value)\n",
    "```"
   ]
  },
  {
   "cell_type": "markdown",
   "id": "upset-roman",
   "metadata": {},
   "source": [
    "* In the example above, the **model** variable is a linear regression model that has been fitted to the data **x_values** and **y_values**. Fitting the model means finding the best line that fits the training data. Let's make two predictions using the model's ```predict()``` function."
   ]
  },
  {
   "cell_type": "markdown",
   "id": "institutional-hotel",
   "metadata": {},
   "source": [
    "``` python\n",
    "print(model.predict([[127], [248]]))\n",
    "```"
   ]
  },
  {
   "cell_type": "markdown",
   "id": "radio-partition",
   "metadata": {},
   "source": [
    "The model returned an array of predictions, one prediction for each input array. The first input, ```[127]```, got a prediction of `438.94308857`. The second input, `[248]`, got a prediction of `127.14839521`. The reason for predicting on an array like `[127]` and not just `127`, is because you can have a model that makes a prediction using multiple features."
   ]
  },
  {
   "cell_type": "markdown",
   "id": "manual-beauty",
   "metadata": {},
   "source": [
    "<br>\n",
    "<h3 aligne='center'> Linear Regression Example </h3>\n",
    "<br>\n",
    "<br>\n",
    "\n",
    "\n",
    "* **Country** – The country the person was born in.\n",
    "* **Life expectancy** – The average life expectancy at birth for a person in that country.\n",
    "* **BMI** – The mean BMI of males in that country.\n",
    "\n",
    "\n",
    "#### You'll need to complete each of the following steps:\n",
    "\n",
    "**1. Load the data**\n",
    "\n",
    "* The data is in the file called `\"bmi_healthcare.csv\"`.\n",
    "* Use *pandas* `read_csv` to load the data into a dataframe (don't forget to import pandas!)\n",
    "* Assign the dataframe to the variable `bmi_healthcare`.\n",
    "\n",
    "**2. Build a linear regression model**\n",
    "\n",
    "* Create a regression model using scikit-learn's `LinearRegression` and assign it to `bmi_healthcare`.\n",
    "* Fit the model to the data.\n",
    "\n",
    "**3. Predict using the model**\n",
    "\n",
    "* Predict using a BMI of `21.07931` and assign it to the variable `laos_life_exp`.\n"
   ]
  },
  {
   "cell_type": "code",
   "execution_count": 5,
   "id": "continued-teacher",
   "metadata": {},
   "outputs": [],
   "source": [
    "# STEP 0\n",
    "\n",
    "import pandas as pd \n",
    "from sklearn.linear_model import LinearRegression\n"
   ]
  },
  {
   "cell_type": "code",
   "execution_count": 7,
   "id": "ready-kinase",
   "metadata": {},
   "outputs": [
    {
     "name": "stdout",
     "output_type": "stream",
     "text": [
      "                Country  Life expectancy       BMI\n",
      "0           Afghanistan             52.8  20.62058\n",
      "1               Albania             76.8  26.44657\n",
      "2               Algeria             75.5  24.59620\n",
      "3               Andorra             84.6  27.63048\n",
      "4                Angola             56.7  22.25083\n",
      "..                  ...              ...       ...\n",
      "158             Vanuatu             63.4  26.78926\n",
      "159  West Bank and Gaza             74.1  26.57750\n",
      "160             Vietnam             74.1  20.91630\n",
      "161              Zambia             51.1  20.68321\n",
      "162            Zimbabwe             47.3  22.02660\n",
      "\n",
      "[163 rows x 3 columns]\n"
     ]
    }
   ],
   "source": [
    "# STEP 1\n",
    "\n",
    "bmi_data = pd.read_csv(\"./data/bmi_heaithcare.csv\")\n",
    "\n",
    "print(bmi_data)"
   ]
  },
  {
   "cell_type": "code",
   "execution_count": 8,
   "id": "entertaining-composer",
   "metadata": {},
   "outputs": [
    {
     "data": {
      "text/plain": [
       "LinearRegression()"
      ]
     },
     "execution_count": 8,
     "metadata": {},
     "output_type": "execute_result"
    }
   ],
   "source": [
    "# STEP 2\n",
    "\n",
    "bmi_model = LinearRegression()\n",
    "bmi_model.fit(bmi_data[['BMI']], bmi_data[['Life expectancy']])"
   ]
  },
  {
   "cell_type": "code",
   "execution_count": 14,
   "id": "czech-nepal",
   "metadata": {},
   "outputs": [
    {
     "name": "stdout",
     "output_type": "stream",
     "text": [
      "Predict: 60.316\n"
     ]
    }
   ],
   "source": [
    "# STEP 3\n",
    "# INPUT = BMI  |  OUTPUT = LIEF EXPECTANCY\n",
    "\n",
    "laos_life_exp = bmi_model.predict([[21.07931]])\n",
    "print(\"Predict: {:.3f}\".format(laos_life_exp[0][0]))"
   ]
  },
  {
   "cell_type": "code",
   "execution_count": 16,
   "id": "incomplete-secretary",
   "metadata": {},
   "outputs": [
    {
     "name": "stdout",
     "output_type": "stream",
     "text": [
      "Testing for Iran: 70.971\n"
     ]
    }
   ],
   "source": [
    "# Testing Model\n",
    "# IRAN: Lief expectancy = 73.1 | BMI = 25.31003\n",
    "\n",
    "iran_life_exp = bmi_model.predict([[25.31003]])\n",
    "print(\"Testing for Iran: {:.3f}\".format(iran_life_exp[0][0]))"
   ]
  },
  {
   "cell_type": "markdown",
   "id": "asian-characteristic",
   "metadata": {},
   "source": [
    "<h3 align=\"center\">!! Part 03-Module 01-Lesson 01_Linear Regression/16. Higher Dimensions !!</h3>"
   ]
  },
  {
   "cell_type": "code",
   "execution_count": null,
   "id": "quantitative-commerce",
   "metadata": {},
   "outputs": [],
   "source": []
  }
 ],
 "metadata": {
  "kernelspec": {
   "display_name": "Python 3",
   "language": "python",
   "name": "python3"
  },
  "language_info": {
   "codemirror_mode": {
    "name": "ipython",
    "version": 3
   },
   "file_extension": ".py",
   "mimetype": "text/x-python",
   "name": "python",
   "nbconvert_exporter": "python",
   "pygments_lexer": "ipython3",
   "version": "3.8.3"
  },
  "latex_envs": {
   "LaTeX_envs_menu_present": true,
   "autoclose": true,
   "autocomplete": true,
   "bibliofile": "biblio.bib",
   "cite_by": "apalike",
   "current_citInitial": 1,
   "eqLabelWithNumbers": true,
   "eqNumInitial": 1,
   "hotkeys": {
    "equation": "Ctrl-E",
    "itemize": "Ctrl-I"
   },
   "labels_anchors": false,
   "latex_user_defs": false,
   "report_style_numbering": true,
   "user_envs_cfg": false
  }
 },
 "nbformat": 4,
 "nbformat_minor": 5
}
