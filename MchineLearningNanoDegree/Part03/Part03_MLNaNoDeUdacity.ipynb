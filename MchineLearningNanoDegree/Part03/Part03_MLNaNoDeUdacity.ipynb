{
 "cells": [
  {
   "cell_type": "markdown",
   "id": "comparative-exposure",
   "metadata": {},
   "source": [
    "### Starting"
   ]
  },
  {
   "cell_type": "markdown",
   "id": "southeast-reference",
   "metadata": {},
   "source": [
    "<h3 align=\"center\">!! Part 03-Module 01-Lesson 01_Linear Regression/15. Linear Regression in scikit-learn !!</h3>"
   ]
  },
  {
   "cell_type": "markdown",
   "id": "lasting-nicaragua",
   "metadata": {},
   "source": [
    "* For your linear regression model, you'll be using scikit-learn's **LinearRegression** class. This class provides the function ``` fit()``` to fit the model to your data."
   ]
  },
  {
   "cell_type": "markdown",
   "id": "smaller-tolerance",
   "metadata": {},
   "source": [
    "``` python\n",
    "from sklearn.linear_model import LinearRegression\n",
    "model = LinearRegression()\n",
    "model.fit(x_value, y_value)\n",
    "```"
   ]
  },
  {
   "cell_type": "markdown",
   "id": "restricted-peninsula",
   "metadata": {},
   "source": [
    "* In the example above, the **model** variable is a linear regression model that has been fitted to the data **x_values** and **y_values**. Fitting the model means finding the best line that fits the training data. Let's make two predictions using the model's ```predict()``` function."
   ]
  },
  {
   "cell_type": "markdown",
   "id": "mediterranean-classification",
   "metadata": {},
   "source": [
    "``` python\n",
    "print(model.predict([[127], [248]]))\n",
    "```"
   ]
  },
  {
   "cell_type": "markdown",
   "id": "immune-douglas",
   "metadata": {},
   "source": [
    "The model returned an array of predictions, one prediction for each input array. The first input, ```[127]```, got a prediction of `438.94308857`. The second input, `[248]`, got a prediction of `127.14839521`. The reason for predicting on an array like `[127]` and not just `127`, is because you can have a model that makes a prediction using multiple features."
   ]
  },
  {
   "cell_type": "code",
   "execution_count": null,
   "id": "tribal-insertion",
   "metadata": {},
   "outputs": [],
   "source": []
  }
 ],
 "metadata": {
  "kernelspec": {
   "display_name": "Python 3",
   "language": "python",
   "name": "python3"
  },
  "language_info": {
   "codemirror_mode": {
    "name": "ipython",
    "version": 3
   },
   "file_extension": ".py",
   "mimetype": "text/x-python",
   "name": "python",
   "nbconvert_exporter": "python",
   "pygments_lexer": "ipython3",
   "version": "3.8.3"
  },
  "latex_envs": {
   "LaTeX_envs_menu_present": true,
   "autoclose": true,
   "autocomplete": true,
   "bibliofile": "biblio.bib",
   "cite_by": "apalike",
   "current_citInitial": 1,
   "eqLabelWithNumbers": true,
   "eqNumInitial": 1,
   "hotkeys": {
    "equation": "Ctrl-E",
    "itemize": "Ctrl-I"
   },
   "labels_anchors": false,
   "latex_user_defs": false,
   "report_style_numbering": true,
   "user_envs_cfg": false
  }
 },
 "nbformat": 4,
 "nbformat_minor": 5
}
