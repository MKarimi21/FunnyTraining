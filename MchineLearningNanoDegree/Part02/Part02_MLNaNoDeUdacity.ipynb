{
 "cells": [
  {
   "cell_type": "markdown",
   "id": "removable-temple",
   "metadata": {},
   "source": [
    "### Starting "
   ]
  },
  {
   "cell_type": "markdown",
   "id": "friendly-contractor",
   "metadata": {},
   "source": [
    "<h4 align=\"center\"> Part 02-Module 01-Lesson 01_Training and Testing Models/05. NumPy Arrays </h4>"
   ]
  },
  {
   "cell_type": "code",
   "execution_count": 3,
   "id": "fatal-continuity",
   "metadata": {},
   "outputs": [
    {
     "name": "stdout",
     "output_type": "stream",
     "text": [
      "         x1        x2  y\n",
      "0   0.78051 -0.063669  0\n",
      "1   0.28774  0.291390  0\n",
      "2   0.40714  0.178780  0\n",
      "3   0.29230  0.421700  0\n",
      "4   0.50922  0.352560  0\n",
      "..      ...       ... ..\n",
      "95  0.77029  0.701400  1\n",
      "96  0.73156  0.717820  1\n",
      "97  0.44556  0.579910  1\n",
      "98  0.85275  0.859870  1\n",
      "99  0.51912  0.623590  1\n",
      "\n",
      "[100 rows x 3 columns]\n"
     ]
    }
   ],
   "source": [
    "import pandas as pd\n",
    "import numpy as np\n",
    "\n",
    "data = pd.read_csv(\"data/dataForNumpy.csv\")\n",
    "\n",
    "print(data)"
   ]
  },
  {
   "cell_type": "code",
   "execution_count": 5,
   "id": "atmospheric-realtor",
   "metadata": {},
   "outputs": [],
   "source": [
    "X = np.array(data[['x1', 'x2']])\n",
    "Y = np.array(data['y'])\n"
   ]
  },
  {
   "cell_type": "code",
   "execution_count": null,
   "id": "brave-awareness",
   "metadata": {},
   "outputs": [],
   "source": [
    "\n"
   ]
  },
  {
   "cell_type": "code",
   "execution_count": null,
   "id": "growing-employer",
   "metadata": {},
   "outputs": [],
   "source": []
  }
 ],
 "metadata": {
  "kernelspec": {
   "display_name": "Python 3",
   "language": "python",
   "name": "python3"
  },
  "language_info": {
   "codemirror_mode": {
    "name": "ipython",
    "version": 3
   },
   "file_extension": ".py",
   "mimetype": "text/x-python",
   "name": "python",
   "nbconvert_exporter": "python",
   "pygments_lexer": "ipython3",
   "version": "3.8.3"
  }
 },
 "nbformat": 4,
 "nbformat_minor": 5
}
