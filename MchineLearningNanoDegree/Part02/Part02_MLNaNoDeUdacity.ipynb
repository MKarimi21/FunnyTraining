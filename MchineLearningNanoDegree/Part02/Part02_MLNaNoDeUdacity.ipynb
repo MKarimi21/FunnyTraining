{
 "cells": [
  {
   "cell_type": "markdown",
   "id": "removable-temple",
   "metadata": {},
   "source": [
    "### Starting "
   ]
  },
  {
   "cell_type": "markdown",
   "id": "friendly-contractor",
   "metadata": {},
   "source": [
    "<h4 align=\"center\"> Part 02-Module 01-Lesson 01_Training and Testing Models/05. NumPy Arrays </h4>"
   ]
  },
  {
   "cell_type": "code",
   "execution_count": 2,
   "id": "fatal-continuity",
   "metadata": {},
   "outputs": [
    {
     "name": "stdout",
     "output_type": "stream",
     "text": [
      "         x1        x2  y\n",
      "0   0.78051 -0.063669  0\n",
      "1   0.28774  0.291390  0\n",
      "2   0.40714  0.178780  0\n",
      "3   0.29230  0.421700  0\n",
      "4   0.50922  0.352560  0\n",
      "..      ...       ... ..\n",
      "95  0.77029  0.701400  1\n",
      "96  0.73156  0.717820  1\n",
      "97  0.44556  0.579910  1\n",
      "98  0.85275  0.859870  1\n",
      "99  0.51912  0.623590  1\n",
      "\n",
      "[100 rows x 3 columns]\n"
     ]
    }
   ],
   "source": [
    "import pandas as pd\n",
    "import numpy as np\n",
    "\n",
    "data = pd.read_csv(\"data/dataForNumpy.csv\")\n",
    "\n",
    "print(data)"
   ]
  },
  {
   "cell_type": "code",
   "execution_count": 3,
   "id": "atmospheric-realtor",
   "metadata": {},
   "outputs": [],
   "source": [
    "X = np.array(data[['x1', 'x2']])\n",
    "Y = np.array(data['y'])\n"
   ]
  },
  {
   "cell_type": "markdown",
   "id": "dated-cowboy",
   "metadata": {},
   "source": [
    "<h4 align=\"center\"> Part 02-Module 01-Lesson 01_Training and Testing Models/06. Training models in sklearn </h4>\n"
   ]
  },
  {
   "cell_type": "markdown",
   "id": "moved-marble",
   "metadata": {},
   "source": [
    "<p>In the last section, we learned most of the most important classification algorithms in Machine Learning, including the following:</p>\n",
    "</br>\n",
    "<ul>\n",
    "<li>Logistic Regression</li>\n",
    "<li>Neural Networks</li>\n",
    "<li>Decision Trees</li>\n",
    "<li>Support Vector Machines</li>\n",
    "</ul>"
   ]
  },
  {
   "cell_type": "code",
   "execution_count": 21,
   "id": "systematic-allowance",
   "metadata": {},
   "outputs": [
    {
     "data": {
      "image/png": "[encoded data removed]",
      "text/plain": [
       "<Figure size 432x288 with 1 Axes>"
      ]
     },
     "metadata": {
      "needs_background": "light"
     },
     "output_type": "display_data"
    }
   ],
   "source": [
    "import matplotlib.pyplot as plt\n",
    "\n",
    "\n",
    "\n",
    "plt.plot(X, 'r+');\n",
    "\n",
    "\n",
    "plt.plot(Y, 'b.');\n"
   ]
  },
  {
   "cell_type": "code",
   "execution_count": null,
   "id": "ambient-professor",
   "metadata": {},
   "outputs": [],
   "source": []
  }
 ],
 "metadata": {
  "kernelspec": {
   "display_name": "Python 3",
   "language": "python",
   "name": "python3"
  },
  "language_info": {
   "codemirror_mode": {
    "name": "ipython",
    "version": 3
   },
   "file_extension": ".py",
   "mimetype": "text/x-python",
   "name": "python",
   "nbconvert_exporter": "python",
   "pygments_lexer": "ipython3",
   "version": "3.8.3"
  },
  "latex_envs": {
   "LaTeX_envs_menu_present": true,
   "autoclose": true,
   "autocomplete": true,
   "bibliofile": "biblio.bib",
   "cite_by": "apalike",
   "current_citInitial": 1,
   "eqLabelWithNumbers": true,
   "eqNumInitial": 1,
   "hotkeys": {
    "equation": "Ctrl-E",
    "itemize": "Ctrl-I"
   },
   "labels_anchors": false,
   "latex_user_defs": false,
   "report_style_numbering": true,
   "user_envs_cfg": false
  }
 },
 "nbformat": 4,
 "nbformat_minor": 5
}
