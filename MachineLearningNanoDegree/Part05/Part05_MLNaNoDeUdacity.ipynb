{
 "cells": [
  {
   "cell_type": "markdown",
   "id": "regulation-forestry",
   "metadata": {},
   "source": [
    "### Starting"
   ]
  },
  {
   "cell_type": "markdown",
   "id": "endangered-browse",
   "metadata": {},
   "source": [
    "<h3 align='center'>!!  Part 05-Module 01-Lesson 01_Neural Networks/21. Cross-Entropy 2  !!</h3>"
   ]
  },
  {
   "cell_type": "markdown",
   "id": "better-mustang",
   "metadata": {},
   "source": [
    "<img src='./data/entropy00.jpg' align='center' width=650 heigth=300>\n",
    "<img src='./data/entropy01.jpg' align='center' width=650 heigth=300>\n",
    "\n",
    "> * In Cross Entropy, **`goal`** is: Minimum CE\n",
    "\n",
    "\n",
    "``` python\n",
    "    import numpy as np\n",
    "\n",
    "    def cross_entropy(Y, P):\n",
    "        Y = np.float_(Y)\n",
    "        P = np.float_(P)\n",
    "        return -np.sum(Y * np.log(P) + (1 - Y) * np.log(1 - P))\n",
    "\n",
    "```\n",
    "\n"
   ]
  },
  {
   "cell_type": "markdown",
   "id": "based-nightmare",
   "metadata": {},
   "source": [
    "<h3 align='center'>!!  Part 05-Module 01-Lesson 01_Neural Networks/21. Cross-Entropy 2  !!</h3>"
   ]
  },
  {
   "cell_type": "markdown",
   "id": "yellow-officer",
   "metadata": {},
   "source": [
    "<img src='./data/multientropy00.jpg' align='center' width=650 heigth=300>\n",
    "<img src='./data/multientropy01.jpg' align='center' width=650 heigth=300>\n",
    "<img src='./data/multientropy02.jpg' align='center' width=650 heigth=300>"
   ]
  },
  {
   "cell_type": "markdown",
   "id": "binary-thompson",
   "metadata": {},
   "source": [
    "<h3 align='center'>!!  Part 05-Module 01-Lesson 01_Neural Networks/23. Logistic Regression  !!</h3>\n",
    "<br/>\n",
    "\n",
    "<img src='./data/errorFun00.jpg' align='center' width=650 heigth=300>\n",
    "<img src='./data/errorFun01.jpg' align='center' width=650 heigth=300>\n",
    "<img src='./data/errorFun02.jpg' align='center' width=650 heigth=300>\n",
    "<img src='./data/errorFun03.jpg' align='center' width=650 heigth=300>"
   ]
  },
  {
   "cell_type": "markdown",
   "id": "convenient-trouble",
   "metadata": {},
   "source": [
    "<h3 align='center'>!!  Part 05-Module 01-Lesson 01_Neural Networks/24. Gradient Descent  !!</h3>\n",
    "<br/>\n",
    "\n",
    "<img src='./data/gd00.jpg' align='center' width=650 heigth=300>\n",
    "<img src='./data/gd01.jpg' align='center' width=650 heigth=300>"
   ]
  },
  {
   "cell_type": "markdown",
   "id": "substantial-bosnia",
   "metadata": {},
   "source": [
    "<h3 align='center'>!!  Part 05-Module 01-Lesson 03_Deep Neural Networks/04. Neural Network Architecture  !!</h3>\n",
    "<br>\n",
    "<img src='./data/nn00.jpg' align='center' width=650 heigth=300>\n",
    "<br>\n",
    "<img src='./data/nn01.jpg' align='center' width=650 heigth=300>\n",
    "<br>\n",
    "<img src='./data/nn02.jpg' align='center' width=650 heigth=300>\n",
    "<br>\n",
    "<img src='./data/nn03.jpg' align='center' width=650 heigth=300>\n",
    "<br>\n",
    "<img src='./data/nn04.jpg' align='center' width=650 heigth=300>\n",
    "<br>\n",
    "<img src='./data/nn05.jpg' align='center' width=650 heigth=300>\n",
    "<br>\n",
    "<img src='./data/nn06.jpg' align='center' width=650 heigth=300>\n",
    "<br>\n",
    "<img src='./data/nn07.jpg' align='center' width=650 heigth=300>"
   ]
  },
  {
   "cell_type": "markdown",
   "id": "binding-lease",
   "metadata": {},
   "source": [
    "<br>\n",
    "<h3 align='center'>!!  Part 05-Module 01-Lesson 03_Deep Neural Networks/05. Feedforward  !!</h3>\n",
    "<br>\n",
    "<img src='./data/ef00.jpg' align='center' width=650 heigth=300>"
   ]
  },
  {
   "cell_type": "markdown",
   "id": "focused-spirituality",
   "metadata": {},
   "source": [
    "<br>\n",
    "<h3 align='center'>!!  Part 05-Module 01-Lesson 03_Deep Neural Networks/06. Backpropagation  !!</h3>\n",
    "<br>\n",
    "<img src='./data/ff00.jpg' align='center' width=650 heigth=300>\n",
    "<br>\n",
    "<img src='./data/ff01.jpg' align='center' width=650 heigth=300>\n",
    "<br>\n",
    "<img src='./data/ff02.jpg' align='center' width=650 heigth=300>\n",
    "<br>\n",
    "<img src='./data/ff03.jpg' align='center' width=650 heigth=300>\n",
    "\n",
    "> * That is **Neural Network**"
   ]
  },
  {
   "cell_type": "markdown",
   "id": "eleven-diploma",
   "metadata": {},
   "source": [
    "<br>\n",
    "<h3 align='center'>!!  Part 05-Module 01-Lesson 03_Deep Neural Networks/07. Keras  !!</h3>\n",
    "<br>\n"
   ]
  },
  {
   "cell_type": "markdown",
   "id": "following-keeping",
   "metadata": {},
   "source": [
    "### Nothing for now"
   ]
  },
  {
   "cell_type": "markdown",
   "id": "paperback-biodiversity",
   "metadata": {},
   "source": [
    "<br>\n",
    "<h3 align='center'>!!  Part 05-Module 01-Lesson 03_Deep Neural Networks/11. Early Stopping  !!</h3>\n",
    "<br>\n",
    "<img src='./data/mcg00.jpg' align='center' width=650 heigth=300>"
   ]
  },
  {
   "cell_type": "markdown",
   "id": "natural-review",
   "metadata": {},
   "source": [
    "<h3 align='center'>!!  Part 05-Module 01-Lesson 03_Deep Neural Networks/12. Regularization  !!</h3>"
   ]
  },
  {
   "cell_type": "markdown",
   "id": "plastic-therapist",
   "metadata": {},
   "source": [
    "<img src='./data/reg00.jpg' align='center' width=650 heigth=300>\n",
    "<br>\n",
    "\n",
    "> * We use **`Sigmoid Function`**\n",
    "\n",
    "\n",
    "$$\\sigma \\left ( 10x_{1}+10x_{2} \\right ) \\Rightarrow \\frac{1}{1+\\epsilon ^{-\\alpha x}} \\xrightarrow[]{\\left ( 1, 1 \\right )\\rightarrow 10+10}\\frac{1}{1+\\epsilon ^{-20}}=0.999999997$$\n",
    "\n",
    "<img src='./data/reg01.jpg' align='center' width=650 heigth=300>\n",
    "<br>\n",
    "<img src='./data/reg02.jpg' align='center' width=650 heigth=300>\n",
    "<br>\n",
    "<img src='./data/reg03.jpg' align='center' width=650 heigth=300>\n",
    "<br>"
   ]
  },
  {
   "cell_type": "markdown",
   "id": "heavy-oxford",
   "metadata": {},
   "source": [
    "<h3 align='center'>!!  Part 05-Module 01-Lesson 03_Deep Neural Networks/14. Dropout  !!</h3>\n",
    "\n",
    "> * Nothing for now"
   ]
  },
  {
   "cell_type": "markdown",
   "id": "parliamentary-tamil",
   "metadata": {},
   "source": [
    "<h3 align='center'>!!  Part 05-Module 01-Lesson 04_Convolutional Neural Networks/03. How Computers Interpret Images  !!</h3>"
   ]
  },
  {
   "cell_type": "markdown",
   "id": "alone-trustee",
   "metadata": {},
   "source": [
    "As you follow along this lesson, you are encouraged to open the referenced Jupyter notebooks. We will present a solution to you, but please try creating your own deep learning models! Much of the value in this experience will come from playing around with the code in your own way.\n",
    "\n",
    "In order to get up and running, please clone the materials from [the GitHub repository](https://github.com/udacity/aind2-cnn.git) by executing the following command in the terminal: **`git clone https://github.com/udacity/aind2-cnn.git`**. Follow the instructions in the [repository](https://github.com/udacity/aind2-cnn) to set up the Conda environment and install the necessary dependencies.\n",
    "\n",
    "To open the notebook referenced in this video, navigate to the **mnist-mlp/** folder and open **mnist_mlp.ipynb** **[Here](https://github.com/udacity/aind2-cnn/blob/master/mnist-mlp/mnist_mlp.ipynb)**."
   ]
  },
  {
   "cell_type": "markdown",
   "id": "injured-stylus",
   "metadata": {},
   "source": [
    "<h3 align='center'>!!  Part 05-Module 01-Lesson 04_Convolutional Neural Networks/12. Stride and Padding  !!</h3>\n",
    "\n",
    "<br>\n",
    "\n",
    "**Stride** is going by step by step for example 2 arg/array and **Padding** is add extra array for example if main array is 5 arg and stride is 2 we don't have 1 arg after second stride (5=2+2+1) and append 1 arg end of array and now stride can go to after second stride "
   ]
  },
  {
   "cell_type": "markdown",
   "id": "deluxe-cookie",
   "metadata": {},
   "source": [
    "<img src='./data/stride00.gif' align='center'>"
   ]
  },
  {
   "cell_type": "markdown",
   "id": "external-jackson",
   "metadata": {},
   "source": [
    "\n",
    "### Convolutional Layers in Keras\n",
    "\n",
    "To create a convolutional layer in Keras, you must first import the necessary module:\n",
    "\n",
    "``` python \n",
    "    from keras.layers import Conv2D\n",
    "```\n",
    "\n",
    "Then, you can create a convolutional layer by using the following format:\n",
    "\n",
    "``` python\n",
    "    Conv2D(filters, kernel_size, strides, padding, activation='relu', input_shape)\n",
    "```\n",
    "**Arguments**\n",
    "\n",
    "You must pass the following arguments:\n",
    "\n",
    "   * **`filters`** - The number of filters.\n",
    "   * **`kernel_size`** - Number specifying both the height and width of the (square) convolution window.\n",
    "\n",
    "There are some additional, optional arguments that you might like to tune:\n",
    "\n",
    "   * **`strides`** - The stride of the convolution. If you don't specify anything, **`strides`** is set to **`1`**.\n",
    "   * **`padding`** - One of **`'valid'`** or **`'same'`**. If you don't specify anything, **`padding`** is set to **`'valid'`**.\n",
    "   * **`activation`** - Typically **`'relu'`**. If you don't specify anything, no activation is applied. You are **strongly encouraged** to add a *ReLU* activation function to **every** convolutional layer in your networks.\n",
    "\n",
    "**NOTE**: It is possible to represent both **`kernel_size`** and **`strides`** as either a number or a tuple.\n",
    "\n",
    "When using your convolutional layer as the first layer (appearing after the input layer) in a model, you must provide an additional **`input_shape`** argument:\n",
    "\n",
    "   * **`input_shape`** - Tuple specifying the height, width, and depth (in that order) of the input.\n",
    "\n",
    "**NOTE**: Do not include the **`input_shape`** argument if the convolutional layer is not the first layer in your network.\n",
    "\n",
    "There are many other tunable arguments that you can set to change the behavior of your convolutional layers. To read more about these, we recommend perusing the official [documentation](https://keras.io/layers/convolutional/).\n",
    "\n",
    "\n",
    "**Example #1**\n",
    "\n",
    "Say I'm constructing a CNN, and my input layer accepts grayscale images that are 200 by 200 pixels (corresponding to a 3D array with height 200, width 200, and depth 1). Then, say I'd like the next layer to be a convolutional layer with 16 filters, each with a width and height of 2. When performing the convolution, I'd like the filter to jump two pixels at a time. I also don't want the filter to extend outside of the image boundaries; in other words, I don't want to pad the image with zeros. Then, to construct this convolutional layer, I would use the following line of code:\n",
    "\n",
    "``` python\n",
    "    Conv2D(filters=16, kernel_size=2, strides=2, activation='relu', input_shape=(200, 200, 1))\n",
    "```\n",
    "\n",
    "**Example #2**\n",
    "\n",
    "Say I'd like the next layer in my CNN to be a convolutional layer that takes the layer constructed in Example 1 as input. Say I'd like my new layer to have 32 filters, each with a height and width of 3. When performing the convolution, I'd like the filter to jump 1 pixel at a time. I want the convolutional layer to see all regions of the previous layer, and so I don't mind if the filter hangs over the edge of the previous layer when it's performing the convolution. Then, to construct this convolutional layer, I would use the following line of code:\n",
    "\n",
    "``` python\n",
    "    Conv2D(filters=32, kernel_size=3, padding='same', activation='relu')\n",
    "```\n",
    "\n",
    "**Example #3**\n",
    "\n",
    "If you look up code online, it is also common to see convolutional layers in Keras in this format:\n",
    "\n",
    "``` python\n",
    "    Conv2D(64, (2,2), activation='relu')\n",
    "```\n",
    "\n",
    "In this case, there are 64 filters, each with a size of 2x2, and the layer has a ReLU activation function. The other arguments in the layer use the default values, so the convolution uses a stride of 1, and the padding has been set to 'valid'.\n"
   ]
  },
  {
   "cell_type": "markdown",
   "id": "curious-journey",
   "metadata": {},
   "source": [
    "<h3 align='center'>!!  Part 05-Module 01-Lesson 04_Convolutional Neural Networks/14. Quiz Dimensionality  !!</h3>\n",
    "<br>\n",
    "<img src='./data/stride01.gif' align='center'>"
   ]
  },
  {
   "cell_type": "markdown",
   "id": "third-equity",
   "metadata": {},
   "source": [
    "\n",
    "### Dimensionality\n",
    "\n",
    "Just as with neural networks, we create a CNN in Keras by first creating a **`Sequential`** model.\n",
    "\n",
    "We add layers to the network by using the **`.add()`** method.\n",
    "\n",
    "Copy and paste the following code into a Python executable named **`conv-dims.py`**:\n",
    "\n",
    "``` python\n",
    "    from keras.models import Sequential\n",
    "    from keras.layers import Conv2D\n",
    "\n",
    "    model = Sequential()\n",
    "    model.add(Conv2D(filters=16, kernel_size=2, strides=2, padding='valid', activation='relu', input_shape=(200, 200, 1)))\n",
    "    model.summary()\n",
    "    \n",
    "```\n",
    "\n",
    "We will not train this CNN; instead, we'll use the executable to study how the dimensionality of the convolutional layer changes, as a function of the supplied arguments.\n",
    "\n",
    "Run **`python path/to/conv-dims.py`** and look at the output. It should appear as follows:\n",
    "\n",
    "<br>\n",
    "<img src='./data/stride03.png' align='center' width=600>\n",
    "<br>\n",
    "\n",
    "\n",
    "\n",
    "Do the dimensions of the convolutional layer line up with your expectations?\n",
    "\n",
    "Feel free to change the values assigned to the arguments (**`filters`**, **`kernel_size`**, etc) in your **`conv-dims.py`** file.\n",
    "\n",
    "Take note of how the **number of parameters** in the convolutional layer changes. This corresponds to the value under **`Param #`** in the printed output. In the figure above, the convolutional layer has **`80`** parameters.\n",
    "\n",
    "Also notice how the **shape** of the convolutional layer changes. This corresponds to the value under **`Output Shape`** in the printed output. In the figure above, **`None`** corresponds to the batch size, and the convolutional layer has a height of **`100`**, width of **`100`**, and depth of **`16`**.\n"
   ]
  },
  {
   "cell_type": "markdown",
   "id": "sophisticated-poker",
   "metadata": {},
   "source": [
    "### Quiz\n",
    "\n",
    "``` python\n",
    "    from keras.models import Sequential\n",
    "    from keras.layers import Conv2D\n",
    "\n",
    "    model = Sequential()\n",
    "    model.add(Conv2D(filters=32, kernel_size=3, strides=2, padding='same', activation='relu', input_shape=(128, 128, 3)))\n",
    "    model.summary()\n",
    "```\n",
    "\n",
    "\n",
    "**How many parameters does the convolutional layer have?**\n",
    "\n",
    "> * 896\n",
    "\n",
    "**What is the depth of the convolutional layer?**\n",
    "\n",
    "> * 32\n",
    "\n",
    "**What is the width of the convolutional layer?**\n",
    "\n",
    "> * 64"
   ]
  },
  {
   "cell_type": "markdown",
   "id": "governing-aurora",
   "metadata": {},
   "source": [
    "### How to Calculate\n",
    "\n",
    "**Formula: Number of Parameters in a Convolutional Layer**\n",
    "\n",
    "The number of parameters in a convolutional layer depends on the supplied values of `filters`, `kernel_size`, and `input_shape`. Let's define a few variables:\n",
    "\n",
    "   * `K` - the number of filters in the convolutional layer\n",
    "   * `F` - the height and width of the convolutional filters\n",
    "   * `D_in` - the depth of the previous layer\n",
    "\n",
    "Notice that `K` = `filters`, and `F` = `kernel_size`. Likewise, `D_in` is the last value in the `input_shape` tuple.\n",
    "\n",
    "Since there are `F*F*D_in` weights per filter, and the convolutional layer is composed of `K` filters, the total number of weights in the convolutional layer is `K*F*F*D_in`. Since there is one bias term per filter, the convolutional layer has `K` biases. Thus, the _number of parameters_ in the convolutional layer is given by `K*F*F*D_in + K`.\n",
    "\n",
    "**Formula: Shape of a Convolutional Layer**\n",
    "\n",
    "The shape of a convolutional layer depends on the supplied values of `kernel_size`, `input_shape`, `padding`, and `stride`. Let's define a few variables:\n",
    "\n",
    "   * `K` - the number of filters in the convolutional layer\n",
    "   * `F` - the height and width of the convolutional filters\n",
    "   * `S` - the stride of the convolution\n",
    "   * `H_in` - the height of the previous layer\n",
    "   * `W_in` - the width of the previous layer\n",
    "\n",
    "Notice that `K` = `filters`, `F` = `kernel_size`, and `S` = `stride`. Likewise, `H_in` and `W_in` are the first and second value of the `input_shape` tuple, respectively.\n",
    "\n",
    "The **depth** of the convolutional layer will always equal the number of filters `K`.\n",
    "\n",
    "If `padding = 'same'`, then the spatial dimensions of the convolutional layer are the following:\n",
    "\n",
    "   * **height** = ceil(float(H_in) / float(S))\n",
    "   * **width** = ceil(float(W_in) / float(S))\n",
    "\n",
    "If `padding = 'valid'`, then the spatial dimensions of the convolutional layer are the following:\n",
    "\n",
    "   * `height` = ceil(float(H_in - F + 1) / float(S))\n",
    "   * `width` = ceil(float(W_in - F + 1) / float(S))\n",
    "\n"
   ]
  },
  {
   "cell_type": "markdown",
   "id": "convenient-section",
   "metadata": {},
   "source": [
    "<h3 align='center'>!!  Part 05-Module 01-Lesson 04_Convolutional Neural Networks/16. Max Pooling Layers in Keras  !!</h3>"
   ]
  },
  {
   "cell_type": "markdown",
   "id": "registered-hearing",
   "metadata": {},
   "source": [
    "<img src='./data/maxpool00.jpeg' align='center' width=600>\n",
    "<br>\n",
    "\n",
    "\n",
    "### Max Pooling Layers in Keras\n",
    "\n",
    "To create a max pooling layer in Keras, you must first import the necessary module:\n",
    "\n",
    "``` python\n",
    "    from keras.layers import MaxPooling2D\n",
    "```\n",
    "\n",
    "Then, you can create a convolutional layer by using the following format:\n",
    "\n",
    "``` python\n",
    "    MaxPooling2D(pool_size, strides, padding)\n",
    "```\n",
    "\n",
    "\n",
    "**Arguments**\n",
    "\n",
    "You must include the following argument:\n",
    "\n",
    "   * `pool_size` - Number specifying the height and width of the pooling window.\n",
    "\n",
    "There are some additional, optional arguments that you might like to tune:\n",
    "\n",
    "   * `strides` - The vertical and horizontal stride. If you don't specify anything, `strides` will default to `pool_size`.\n",
    "   * `padding` - One of `'valid'` or `'same'`. If you don't specify anything, `padding` is set to `'valid'`.\n",
    "\n",
    "**NOTE**: It is possible to represent both `pool_size` and `strides` as either a number or a tuple.\n",
    "\n",
    "You are also encouraged to read the official [documentation](https://keras.io/layers/pooling/#maxpooling2d).\n",
    "\n",
    "**Example**\n",
    "\n",
    "Say I'm constructing a CNN, and I'd like to reduce the dimensionality of a convolutional layer by following it with a max pooling layer. Say the convolutional layer has size `(100, 100, 15)`, and I'd like the max pooling layer to have size `(50, 50, 15)`. I can do this by using a 2x2 window in my max pooling layer, with a stride of 2, which could be constructed in the following line of code:\n",
    "\n",
    "``` python\n",
    "    MaxPooling2D(pool_size=2, strides=2)\n",
    "```\n",
    "\n",
    "If you'd instead like to use a stride of 1, but still keep the size of the window at 2x2, then you'd use:\n",
    "\n",
    "``` python\n",
    "    MaxPooling2D(pool_size=2, strides=1)\n",
    "```\n"
   ]
  },
  {
   "cell_type": "markdown",
   "id": "ready-canadian",
   "metadata": {},
   "source": [
    "<h3 align='center'>!! ** Notic ** !!</h3>\n",
    "\n",
    "\n",
    "<br>\n",
    "<br>\n",
    "\n",
    "\n",
    "\n",
    "**For More Description about Deep Learning , I'll write on Deep Learning Nano Degree NoteBook's.**"
   ]
  },
  {
   "cell_type": "code",
   "execution_count": null,
   "id": "effective-singles",
   "metadata": {},
   "outputs": [],
   "source": []
  }
 ],
 "metadata": {
  "kernelspec": {
   "display_name": "Python 3",
   "language": "python",
   "name": "python3"
  },
  "language_info": {
   "codemirror_mode": {
    "name": "ipython",
    "version": 3
   },
   "file_extension": ".py",
   "mimetype": "text/x-python",
   "name": "python",
   "nbconvert_exporter": "python",
   "pygments_lexer": "ipython3",
   "version": "3.8.8"
  },
  "latex_envs": {
   "LaTeX_envs_menu_present": true,
   "autoclose": true,
   "autocomplete": true,
   "bibliofile": "biblio.bib",
   "cite_by": "apalike",
   "current_citInitial": 1,
   "eqLabelWithNumbers": true,
   "eqNumInitial": 1,
   "hotkeys": {
    "equation": "Ctrl-E",
    "itemize": "Ctrl-I"
   },
   "labels_anchors": false,
   "latex_user_defs": false,
   "report_style_numbering": true,
   "user_envs_cfg": false
  }
 },
 "nbformat": 4,
 "nbformat_minor": 5
}
