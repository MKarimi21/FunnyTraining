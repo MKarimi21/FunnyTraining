{
 "cells": [
  {
   "cell_type": "markdown",
   "id": "regulation-forestry",
   "metadata": {},
   "source": [
    "### Starting"
   ]
  },
  {
   "cell_type": "markdown",
   "id": "endangered-browse",
   "metadata": {},
   "source": [
    "<h3 align='center'>!!  Part 05-Module 01-Lesson 01_Neural Networks/21. Cross-Entropy 2  !!</h3>"
   ]
  },
  {
   "cell_type": "markdown",
   "id": "better-mustang",
   "metadata": {},
   "source": [
    "<img src='./data/entropy00.jpg' align='center' width=650 heigth=300>\n",
    "<img src='./data/entropy01.jpg' align='center' width=650 heigth=300>\n",
    "\n",
    "> * In Cross Entropy, **`goal`** is: Minimum CE\n",
    "\n",
    "\n",
    "``` python\n",
    "    import numpy as np\n",
    "\n",
    "    def cross_entropy(Y, P):\n",
    "        Y = np.float_(Y)\n",
    "        P = np.float_(P)\n",
    "        return -np.sum(Y * np.log(P) + (1 - Y) * np.log(1 - P))\n",
    "\n",
    "```\n",
    "\n"
   ]
  },
  {
   "cell_type": "markdown",
   "id": "based-nightmare",
   "metadata": {},
   "source": [
    "<h3 align='center'>!!  Part 05-Module 01-Lesson 01_Neural Networks/21. Cross-Entropy 2  !!</h3>"
   ]
  },
  {
   "cell_type": "markdown",
   "id": "yellow-officer",
   "metadata": {},
   "source": [
    "<img src='./data/multientropy00.jpg' align='center' width=650 heigth=300>\n",
    "<img src='./data/multientropy01.jpg' align='center' width=650 heigth=300>\n",
    "<img src='./data/multientropy02.jpg' align='center' width=650 heigth=300>"
   ]
  },
  {
   "cell_type": "markdown",
   "id": "binary-thompson",
   "metadata": {},
   "source": [
    "<h3 align='center'>!!  Part 05-Module 01-Lesson 01_Neural Networks/23. Logistic Regression  !!</h3>\n",
    "<br/>\n",
    "\n",
    "<img src='./data/errorFun00.jpg' align='center' width=650 heigth=300>\n",
    "<img src='./data/errorFun01.jpg' align='center' width=650 heigth=300>\n",
    "<img src='./data/errorFun02.jpg' align='center' width=650 heigth=300>\n",
    "<img src='./data/errorFun03.jpg' align='center' width=650 heigth=300>"
   ]
  },
  {
   "cell_type": "markdown",
   "id": "convenient-trouble",
   "metadata": {},
   "source": [
    "<h3 align='center'>!!  Part 05-Module 01-Lesson 01_Neural Networks/24. Gradient Descent  !!</h3>\n",
    "<br/>\n",
    "\n",
    "<img src='./data/gd00.jpg' align='center' width=650 heigth=300>\n",
    "<img src='./data/gd01.jpg' align='center' width=650 heigth=300>"
   ]
  },
  {
   "cell_type": "markdown",
   "id": "substantial-bosnia",
   "metadata": {},
   "source": [
    "<h3 align='center'>!!  Part 05-Module 01-Lesson 03_Deep Neural Networks/04. Neural Network Architecture  !!</h3>\n",
    "<br>\n",
    "<img src='./data/nn00.jpg' align='center' width=650 heigth=300>\n",
    "<br>\n",
    "<img src='./data/nn01.jpg' align='center' width=650 heigth=300>\n",
    "<br>\n",
    "<img src='./data/nn02.jpg' align='center' width=650 heigth=300>\n",
    "<br>\n",
    "<img src='./data/nn03.jpg' align='center' width=650 heigth=300>\n",
    "<br>\n",
    "<img src='./data/nn04.jpg' align='center' width=650 heigth=300>\n",
    "<br>\n",
    "<img src='./data/nn05.jpg' align='center' width=650 heigth=300>\n",
    "<br>\n",
    "<img src='./data/nn06.jpg' align='center' width=650 heigth=300>\n",
    "<br>\n",
    "<img src='./data/nn07.jpg' align='center' width=650 heigth=300>"
   ]
  },
  {
   "cell_type": "markdown",
   "id": "binding-lease",
   "metadata": {},
   "source": [
    "<br>\n",
    "<h3 align='center'>!!  Part 05-Module 01-Lesson 03_Deep Neural Networks/05. Feedforward  !!</h3>\n",
    "<br>\n",
    "<img src='./data/ef00.jpg' align='center' width=650 heigth=300>"
   ]
  },
  {
   "cell_type": "markdown",
   "id": "focused-spirituality",
   "metadata": {},
   "source": [
    "<br>\n",
    "<h3 align='center'>!!  Part 05-Module 01-Lesson 03_Deep Neural Networks/06. Backpropagation  !!</h3>\n",
    "<br>\n",
    "<img src='./data/ff00.jpg' align='center' width=650 heigth=300>\n",
    "<br>\n",
    "<img src='./data/ff01.jpg' align='center' width=650 heigth=300>\n",
    "<br>\n",
    "<img src='./data/ff02.jpg' align='center' width=650 heigth=300>\n",
    "<br>\n",
    "<img src='./data/ff03.jpg' align='center' width=650 heigth=300>\n",
    "\n",
    "> * That is **Neural Network**"
   ]
  },
  {
   "cell_type": "markdown",
   "id": "eleven-diploma",
   "metadata": {},
   "source": [
    "<br>\n",
    "<h3 align='center'>!!  Part 05-Module 01-Lesson 03_Deep Neural Networks/07. Keras  !!</h3>\n",
    "<br>\n"
   ]
  },
  {
   "cell_type": "markdown",
   "id": "following-keeping",
   "metadata": {},
   "source": [
    "### Nothing for now"
   ]
  },
  {
   "cell_type": "markdown",
   "id": "paperback-biodiversity",
   "metadata": {},
   "source": [
    "<br>\n",
    "<h3 align='center'>!!  Part 05-Module 01-Lesson 03_Deep Neural Networks/11. Early Stopping  !!</h3>\n",
    "<br>\n",
    "<img src='./data/mcg00.jpg' align='center' width=650 heigth=300>"
   ]
  },
  {
   "cell_type": "markdown",
   "id": "natural-review",
   "metadata": {},
   "source": [
    "<h3 align='center'>!!  Part 05-Module 01-Lesson 03_Deep Neural Networks/12. Regularization  !!</h3>"
   ]
  },
  {
   "cell_type": "markdown",
   "id": "plastic-therapist",
   "metadata": {},
   "source": [
    "<img src='./data/reg00.jpg' align='center' width=650 heigth=300>\n",
    "<br>\n",
    "\n",
    "> * We use **`Sigmoid Function`**\n",
    "\n",
    "\n",
    "$$\\sigma \\left ( 10x_{1}+10x_{2} \\right ) \\Rightarrow \\frac{1}{1+\\epsilon ^{-\\alpha x}} \\xrightarrow[]{\\left ( 1, 1 \\right )\\rightarrow 10+10}\\frac{1}{1+\\epsilon ^{-20}}=0.999999997$$\n",
    "\n",
    "<img src='./data/reg01.jpg' align='center' width=650 heigth=300>\n",
    "<br>\n",
    "<img src='./data/reg02.jpg' align='center' width=650 heigth=300>\n",
    "<br>\n",
    "<img src='./data/reg03.jpg' align='center' width=650 heigth=300>\n",
    "<br>"
   ]
  },
  {
   "cell_type": "markdown",
   "id": "heavy-oxford",
   "metadata": {},
   "source": [
    "<h3 align='center'>!!  Part 05-Module 01-Lesson 03_Deep Neural Networks/14. Dropout  !!</h3>\n",
    "\n",
    "> * Nothing for now"
   ]
  },
  {
   "cell_type": "markdown",
   "id": "parliamentary-tamil",
   "metadata": {},
   "source": [
    "<h3 align='center'>!!  Part 05-Module 01-Lesson 04_Convolutional Neural Networks/03. How Computers Interpret Images  !!</h3>"
   ]
  },
  {
   "cell_type": "markdown",
   "id": "alone-trustee",
   "metadata": {},
   "source": [
    "As you follow along this lesson, you are encouraged to open the referenced Jupyter notebooks. We will present a solution to you, but please try creating your own deep learning models! Much of the value in this experience will come from playing around with the code in your own way.\n",
    "\n",
    "In order to get up and running, please clone the materials from [the GitHub repository](https://github.com/udacity/aind2-cnn.git) by executing the following command in the terminal: **`git clone https://github.com/udacity/aind2-cnn.git`**. Follow the instructions in the [repository](https://github.com/udacity/aind2-cnn) to set up the Conda environment and install the necessary dependencies.\n",
    "\n",
    "To open the notebook referenced in this video, navigate to the **mnist-mlp/** folder and open **mnist_mlp.ipynb** **[Here](https://github.com/udacity/aind2-cnn/blob/master/mnist-mlp/mnist_mlp.ipynb)**."
   ]
  },
  {
   "cell_type": "markdown",
   "id": "danish-israel",
   "metadata": {},
   "source": [
    "<h3 align='center'>!!  Part 05-Module 01-Lesson 04_Convolutional Neural Networks/12. Stride and Padding  !!</h3>\n",
    "\n",
    "<br>\n",
    "\n",
    "**Stride** is going by step by step for example 2 arg/array and **Padding** is add extra array for example if main array is 5 arg and stride is 2 we don't have 1 arg after second stride (5=2+2+1) and append 1 arg end of array and now stride can go to after second stride "
   ]
  },
  {
   "cell_type": "markdown",
   "id": "indonesian-airline",
   "metadata": {},
   "source": [
    "<img src='./data/stride00.gif' align='center'>"
   ]
  },
  {
   "cell_type": "code",
   "execution_count": null,
   "id": "fleet-sunday",
   "metadata": {},
   "outputs": [],
   "source": []
  }
 ],
 "metadata": {
  "kernelspec": {
   "display_name": "Python 3",
   "language": "python",
   "name": "python3"
  },
  "language_info": {
   "codemirror_mode": {
    "name": "ipython",
    "version": 3
   },
   "file_extension": ".py",
   "mimetype": "text/x-python",
   "name": "python",
   "nbconvert_exporter": "python",
   "pygments_lexer": "ipython3",
   "version": "3.8.8"
  },
  "latex_envs": {
   "LaTeX_envs_menu_present": true,
   "autoclose": true,
   "autocomplete": true,
   "bibliofile": "biblio.bib",
   "cite_by": "apalike",
   "current_citInitial": 1,
   "eqLabelWithNumbers": true,
   "eqNumInitial": 1,
   "hotkeys": {
    "equation": "Ctrl-E",
    "itemize": "Ctrl-I"
   },
   "labels_anchors": false,
   "latex_user_defs": false,
   "report_style_numbering": true,
   "user_envs_cfg": false
  }
 },
 "nbformat": 4,
 "nbformat_minor": 5
}
