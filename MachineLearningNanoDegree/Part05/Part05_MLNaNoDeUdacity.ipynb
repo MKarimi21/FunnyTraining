{
 "cells": [
  {
   "cell_type": "markdown",
   "id": "regulation-forestry",
   "metadata": {},
   "source": [
    "### Starting"
   ]
  },
  {
   "cell_type": "markdown",
   "id": "endangered-browse",
   "metadata": {},
   "source": [
    "<h3 align='center'>!!  Part 05-Module 01-Lesson 01_Neural Networks/21. Cross-Entropy 2  !!</h3>"
   ]
  },
  {
   "cell_type": "markdown",
   "id": "crucial-cameroon",
   "metadata": {},
   "source": [
    "<img src='./data/entropy00.jpg' align='center' width=650 heigth=300>\n",
    "<img src='./data/entropy01.jpg' align='center' width=650 heigth=300>\n",
    "\n",
    "> * In Cross Entropy, **`goal`** is: Minimum CE\n",
    "\n",
    "\n",
    "``` python\n",
    "    import numpy as np\n",
    "\n",
    "    def cross_entropy(Y, P):\n",
    "        Y = np.float_(Y)\n",
    "        P = np.float_(P)\n",
    "        return -np.sum(Y * np.log(P) + (1 - Y) * np.log(1 - P))\n",
    "\n",
    "```\n",
    "\n"
   ]
  },
  {
   "cell_type": "markdown",
   "id": "front-designer",
   "metadata": {},
   "source": [
    "<h3 align='center'>!!  Part 05-Module 01-Lesson 01_Neural Networks/21. Cross-Entropy 2  !!</h3>"
   ]
  },
  {
   "cell_type": "markdown",
   "id": "scenic-parallel",
   "metadata": {},
   "source": [
    "<img src='./data/multientropy00.jpg' align='center' width=650 heigth=300>\n",
    "<img src='./data/multientropy01.jpg' align='center' width=650 heigth=300>\n",
    "<img src='./data/multientropy02.jpg' align='center' width=650 heigth=300>"
   ]
  },
  {
   "cell_type": "markdown",
   "id": "mental-toddler",
   "metadata": {},
   "source": [
    "<h3 align='center'>!!  Part 05-Module 01-Lesson 01_Neural Networks/23. Logistic Regression  !!</h3>\n",
    "<br/>\n",
    "\n",
    "<img src='./data/errorFun00.jpg' align='center' width=650 heigth=300>\n",
    "<img src='./data/errorFun01.jpg' align='center' width=650 heigth=300>\n",
    "<img src='./data/errorFun02.jpg' align='center' width=650 heigth=300>\n",
    "<img src='./data/errorFun03.jpg' align='center' width=650 heigth=300>"
   ]
  },
  {
   "cell_type": "markdown",
   "id": "regional-wages",
   "metadata": {},
   "source": [
    "<h3 align='center'>!!  Part 05-Module 01-Lesson 01_Neural Networks/24. Gradient Descent  !!</h3>\n",
    "<br/>\n",
    "\n",
    "<img src='./data/gd00.jpg' align='center' width=650 heigth=300>\n",
    "<img src='./data/gd01.jpg' align='center' width=650 heigth=300>"
   ]
  },
  {
   "cell_type": "markdown",
   "id": "harmful-wheel",
   "metadata": {},
   "source": []
  }
 ],
 "metadata": {
  "kernelspec": {
   "display_name": "Python 3",
   "language": "python",
   "name": "python3"
  },
  "language_info": {
   "codemirror_mode": {
    "name": "ipython",
    "version": 3
   },
   "file_extension": ".py",
   "mimetype": "text/x-python",
   "name": "python",
   "nbconvert_exporter": "python",
   "pygments_lexer": "ipython3",
   "version": "3.8.3"
  },
  "latex_envs": {
   "LaTeX_envs_menu_present": true,
   "autoclose": true,
   "autocomplete": true,
   "bibliofile": "biblio.bib",
   "cite_by": "apalike",
   "current_citInitial": 1,
   "eqLabelWithNumbers": true,
   "eqNumInitial": 1,
   "hotkeys": {
    "equation": "Ctrl-E",
    "itemize": "Ctrl-I"
   },
   "labels_anchors": false,
   "latex_user_defs": false,
   "report_style_numbering": true,
   "user_envs_cfg": false
  }
 },
 "nbformat": 4,
 "nbformat_minor": 5
}
