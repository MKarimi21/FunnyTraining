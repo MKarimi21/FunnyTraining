{
 "cells": [
  {
   "cell_type": "markdown",
   "id": "specialized-gazette",
   "metadata": {},
   "source": [
    "### Starting"
   ]
  },
  {
   "cell_type": "markdown",
   "id": "latter-helen",
   "metadata": {},
   "source": [
    "<h3 align='center'>!!  Part 04-Module 02-Lesson 01_Clustering/10. K-Means Cluster Visualization  !!</h3>\n",
    "\n",
    "\n",
    "\n",
    "> * **Classification: Supervised Learning  | Clustring: UnSupervised Learning**\n",
    "\n",
    "\n",
    "\n",
    "\n",
    "Example for K-Means Cluster Visualization: **[Link For View](https://www.naftaliharris.com/blog/visualizing-k-means-clustering/)**\n"
   ]
  },
  {
   "cell_type": "markdown",
   "id": "settled-encounter",
   "metadata": {},
   "source": [
    "<img src='./data/clustring00.jpg' align='center' width=650 heigth=350>\n",
    "<br>\n",
    "<img src='./data/clustring01.jpg' align='center' width=650 heigth=350>\n",
    "<br>\n",
    "\n",
    "> * Between Area\n",
    "\n",
    "<img src='./data/clustring02.jpg' align='center' width=650 heigth=350>\n",
    "<br>\n",
    "\n",
    "> * Between Point"
   ]
  },
  {
   "cell_type": "markdown",
   "id": "close-weight",
   "metadata": {},
   "source": [
    "> * **!Notic!**: I don't have 06. Hierarchical clustering implementation form Hierarchical and Density-based Clustering till Gaussian Mixture Models and Cluster Validation part, so continue with =>\n",
    "\n",
    "\n",
    "\n",
    "<h3 align='center'>!!  Part 04-Module 03-Lesson 01_Feature Scaling/10. MinMax Rescaler Coding Quiz  !!</h3>"
   ]
  },
  {
   "cell_type": "markdown",
   "id": "other-google",
   "metadata": {},
   "source": [
    "$$X_{new}^{'} = \\frac{X - X_{min}}{X_{max} - X_{min}}$$\n",
    "\n",
    "> * For new point we use this func"
   ]
  },
  {
   "cell_type": "code",
   "execution_count": 1,
   "id": "bridal-newcastle",
   "metadata": {},
   "outputs": [
    {
     "name": "stdout",
     "output_type": "stream",
     "text": [
      "Enter New X: 140\n",
      "Enter Maximum X: 115\n",
      "Enter Minimum X: 175\n",
      "New X is: 0.5833\n"
     ]
    }
   ],
   "source": [
    "# This is the MinMaxScaler\n",
    "\n",
    "\n",
    "def xNewMinMax():\n",
    "    \n",
    "    n = float(input(\"Enter New X: \"))\n",
    "    maxX = float(input(\"Enter Maximum X: \"))\n",
    "    minX = float(input(\"Enter Minimum X: \"))\n",
    "    \n",
    "    new_X = (n-minX) / (maxX-minX)\n",
    "    \n",
    "    return new_X\n",
    "\n",
    "print(\"New X is: {:.4f}\".format(xNewMinMax()))"
   ]
  },
  {
   "cell_type": "code",
   "execution_count": null,
   "id": "saved-store",
   "metadata": {},
   "outputs": [],
   "source": []
  }
 ],
 "metadata": {
  "kernelspec": {
   "display_name": "Python 3",
   "language": "python",
   "name": "python3"
  },
  "language_info": {
   "codemirror_mode": {
    "name": "ipython",
    "version": 3
   },
   "file_extension": ".py",
   "mimetype": "text/x-python",
   "name": "python",
   "nbconvert_exporter": "python",
   "pygments_lexer": "ipython3",
   "version": "3.8.3"
  },
  "latex_envs": {
   "LaTeX_envs_menu_present": true,
   "autoclose": true,
   "autocomplete": true,
   "bibliofile": "biblio.bib",
   "cite_by": "apalike",
   "current_citInitial": 1,
   "eqLabelWithNumbers": true,
   "eqNumInitial": 1,
   "hotkeys": {
    "equation": "Ctrl-E",
    "itemize": "Ctrl-I"
   },
   "labels_anchors": false,
   "latex_user_defs": false,
   "report_style_numbering": true,
   "user_envs_cfg": false
  }
 },
 "nbformat": 4,
 "nbformat_minor": 5
}
