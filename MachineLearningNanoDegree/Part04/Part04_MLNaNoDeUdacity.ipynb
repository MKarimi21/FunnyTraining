{
 "cells": [
  {
   "cell_type": "markdown",
   "id": "specialized-gazette",
   "metadata": {},
   "source": [
    "### Starting"
   ]
  },
  {
   "cell_type": "markdown",
   "id": "latter-helen",
   "metadata": {},
   "source": [
    "<h3 align='center'>!!  Part 04-Module 02-Lesson 01_Clustering/10. K-Means Cluster Visualization  !!</h3>\n",
    "\n",
    "\n",
    "\n",
    "> * **Classification: Supervised Learning  | Clustring: UnSupervised Learning**\n",
    "\n",
    "\n",
    "\n",
    "\n",
    "Example for K-Means Cluster Visualization: **[Link For View](https://www.naftaliharris.com/blog/visualizing-k-means-clustering/)**\n"
   ]
  },
  {
   "cell_type": "markdown",
   "id": "settled-encounter",
   "metadata": {},
   "source": [
    "<img src='./data/clustring00.jpg' align='center' width=650 heigth=350>\n",
    "<br>\n",
    "<img src='./data/clustring01.jpg' align='center' width=650 heigth=350>\n",
    "<br>\n",
    "\n",
    "> * Between Area\n",
    "\n",
    "<img src='./data/clustring02.jpg' align='center' width=650 heigth=350>\n",
    "<br>\n",
    "\n",
    "> * Between Point"
   ]
  },
  {
   "cell_type": "markdown",
   "id": "defined-messenger",
   "metadata": {},
   "source": [
    "> * **!Notic!**: I don't have 06. Hierarchical clustering implementation form Hierarchical and Density-based Clustering till Gaussian Mixture Models and Cluster Validation part, so continue with =>\n",
    "\n",
    "\n",
    "\n",
    "<h3 align='center'>!!  Part 04-Module 03-Lesson 01_Feature Scaling/10. MinMax Rescaler Coding Quiz  !!</h3>"
   ]
  },
  {
   "cell_type": "markdown",
   "id": "lightweight-removal",
   "metadata": {},
   "source": [
    "$$X_{new}^{'} = \\frac{X - X_{min}}{X_{max} - X_{min}}$$\n",
    "\n",
    "> * For new point we use this func"
   ]
  },
  {
   "cell_type": "code",
   "execution_count": 2,
   "id": "close-belarus",
   "metadata": {},
   "outputs": [
    {
     "name": "stdout",
     "output_type": "stream",
     "text": [
      "Enter New X: 140\n",
      "Enter Maximum X: 175\n",
      "Enter Minimum X: 115\n",
      "New X is: 0.4167\n"
     ]
    }
   ],
   "source": [
    "# This is the MinMaxScaler\n",
    "\n",
    "\n",
    "def xNewMinMax():\n",
    "    \n",
    "    n = float(input(\"Enter New X: \"))\n",
    "    maxX = float(input(\"Enter Maximum X: \"))\n",
    "    minX = float(input(\"Enter Minimum X: \"))\n",
    "    \n",
    "    new_X = ((n-minX) / (maxX-minX))\n",
    "    \n",
    "    return new_X\n",
    "\n",
    "print(\"New X is: {:.4f}\".format(xNewMinMax()))"
   ]
  },
  {
   "cell_type": "code",
   "execution_count": 3,
   "id": "direct-myanmar",
   "metadata": {},
   "outputs": [
    {
     "name": "stdout",
     "output_type": "stream",
     "text": [
      "[[0.        ]\n",
      " [0.45454545]\n",
      " [1.        ]]\n"
     ]
    }
   ],
   "source": [
    "# MinMaxScaler in SKLearn\n",
    "\n",
    "from sklearn.preprocessing import MinMaxScaler\n",
    "from numpy import array\n",
    "\n",
    "weigths = array([[115.], [140.], [170.]])\n",
    "\n",
    "scaler = MinMaxScaler()\n",
    "\n",
    "rescaled_weights = scaler.fit_transform(weigths)\n",
    "\n",
    "print(rescaled_weights)"
   ]
  },
  {
   "cell_type": "markdown",
   "id": "animated-hamburg",
   "metadata": {},
   "source": [
    "**Wich algorithm would be affected by feature rescaling?**\n",
    "\n",
    "> * SVM with RBF kernel and K-Means Clustering"
   ]
  },
  {
   "cell_type": "markdown",
   "id": "integrated-cartoon",
   "metadata": {},
   "source": [
    "<h3 align='center'>!!  Part 04-Module 04-Lesson 01_PCA/01. Data Dimensionality  !!</h3>\n",
    "\n",
    "\n",
    "> * PCA = Principal Component Analysis"
   ]
  },
  {
   "cell_type": "markdown",
   "id": "herbal-navigator",
   "metadata": {},
   "source": [
    "<img src='./data/PCA00.jpg' align='center' width=650 heigth=300>\n",
    "<img src='./data/PCA01.jpg' align='center' width=650 heigth=300>"
   ]
  },
  {
   "cell_type": "markdown",
   "id": "negative-sitting",
   "metadata": {},
   "source": [
    "\n",
    "**Applying PCA to Real Data**\n",
    "\n",
    "Some of the Enron finance data, with an eye toward applying PCA.\n",
    "\n",
    "**`Remember`**: You can fetch the repository containing project code as well as this dataset here:\n",
    "\n",
    "**[UD120-Project](https://github.com/udacity/ud120-projects)**\n",
    "\n",
    "The Enron data is included under: **[final_project](https://github.com/udacity/ud120-projects/tree/master/final_project)**\n"
   ]
  },
  {
   "cell_type": "markdown",
   "id": "closing-knowing",
   "metadata": {},
   "source": [
    "<h3 align='center'>!!  Part 04-Module 06-Lesson 01_Random Projection and ICA/01. Random Projection  !!</h3>"
   ]
  },
  {
   "cell_type": "markdown",
   "id": "elect-oasis",
   "metadata": {},
   "source": [
    "**Which of the following is a scenario where you may want to use Random Project and not PCA?**\n",
    "> * When working with so many dimensions that PCA's performance becomes unacceptable for the situation\n",
    "\n",
    "**True or false: It is mandatory for us to specify the number of components/dimensions that we want [Random Projection](https://scikit-learn.org/stable/modules/generated/sklearn.random_projection.SparseRandomProjection.html#sklearn.random_projection.SparseRandomProjection) to reduce our dataset down into.**\n",
    "> * False, the number of components is optional and can be computed by the algorithm \n"
   ]
  },
  {
   "cell_type": "code",
   "execution_count": null,
   "id": "medical-conservation",
   "metadata": {},
   "outputs": [],
   "source": []
  }
 ],
 "metadata": {
  "kernelspec": {
   "display_name": "Python 3",
   "language": "python",
   "name": "python3"
  },
  "language_info": {
   "codemirror_mode": {
    "name": "ipython",
    "version": 3
   },
   "file_extension": ".py",
   "mimetype": "text/x-python",
   "name": "python",
   "nbconvert_exporter": "python",
   "pygments_lexer": "ipython3",
   "version": "3.8.3"
  },
  "latex_envs": {
   "LaTeX_envs_menu_present": true,
   "autoclose": true,
   "autocomplete": true,
   "bibliofile": "biblio.bib",
   "cite_by": "apalike",
   "current_citInitial": 1,
   "eqLabelWithNumbers": true,
   "eqNumInitial": 1,
   "hotkeys": {
    "equation": "Ctrl-E",
    "itemize": "Ctrl-I"
   },
   "labels_anchors": false,
   "latex_user_defs": false,
   "report_style_numbering": true,
   "user_envs_cfg": false
  }
 },
 "nbformat": 4,
 "nbformat_minor": 5
}
